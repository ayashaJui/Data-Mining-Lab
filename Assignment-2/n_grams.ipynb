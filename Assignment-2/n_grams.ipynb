{
  "cells": [
    {
      "cell_type": "markdown",
      "metadata": {
        "id": "9SXP8_qUfuf5"
      },
      "source": [
        "## Connect to Drive\n"
      ]
    },
    {
      "cell_type": "code",
      "execution_count": 50,
      "metadata": {
        "colab": {
          "base_uri": "https://localhost:8080/"
        },
        "id": "9y5m_56xqSAd",
        "outputId": "5fb13561-df6a-4dc0-9a2c-56f3b1abf917"
      },
      "outputs": [
        {
          "output_type": "stream",
          "name": "stdout",
          "text": [
            "Mounted at /content/drive\n"
          ]
        }
      ],
      "source": [
        "from google.colab import drive\n",
        "drive.mount('/content/drive')"
      ]
    },
    {
      "cell_type": "code",
      "execution_count": 51,
      "metadata": {
        "id": "BJ4ZZsO6fuXY"
      },
      "outputs": [],
      "source": [
        "data_path = '/content/drive/MyDrive/all.csv'"
      ]
    },
    {
      "cell_type": "markdown",
      "metadata": {
        "id": "0Ato-YGVf2v2"
      },
      "source": [
        "## Install Bengali Language Toolkit"
      ]
    },
    {
      "cell_type": "code",
      "execution_count": 1,
      "metadata": {
        "colab": {
          "base_uri": "https://localhost:8080/"
        },
        "id": "cpkm0SG8fyqK",
        "outputId": "21f754f8-a59b-4110-ae00-98346e582fac"
      },
      "outputs": [
        {
          "output_type": "stream",
          "name": "stdout",
          "text": [
            "Looking in indexes: https://pypi.org/simple, https://us-python.pkg.dev/colab-wheels/public/simple/\n",
            "Collecting bnlp_toolkit\n",
            "  Downloading bnlp_toolkit-3.1.2-py3-none-any.whl (17 kB)\n",
            "Collecting sentencepiece\n",
            "  Downloading sentencepiece-0.1.97-cp37-cp37m-manylinux_2_17_x86_64.manylinux2014_x86_64.whl (1.3 MB)\n",
            "\u001b[K     |████████████████████████████████| 1.3 MB 8.4 MB/s \n",
            "\u001b[?25hRequirement already satisfied: scipy in /usr/local/lib/python3.7/dist-packages (from bnlp_toolkit) (1.7.3)\n",
            "Collecting gensim==4.0.1\n",
            "  Downloading gensim-4.0.1-cp37-cp37m-manylinux1_x86_64.whl (23.9 MB)\n",
            "\u001b[K     |████████████████████████████████| 23.9 MB 2.0 MB/s \n",
            "\u001b[?25hCollecting sklearn-crfsuite\n",
            "  Downloading sklearn_crfsuite-0.3.6-py2.py3-none-any.whl (12 kB)\n",
            "Requirement already satisfied: numpy in /usr/local/lib/python3.7/dist-packages (from bnlp_toolkit) (1.21.6)\n",
            "Requirement already satisfied: wasabi in /usr/local/lib/python3.7/dist-packages (from bnlp_toolkit) (0.10.1)\n",
            "Requirement already satisfied: nltk in /usr/local/lib/python3.7/dist-packages (from bnlp_toolkit) (3.7)\n",
            "Requirement already satisfied: smart-open>=1.8.1 in /usr/local/lib/python3.7/dist-packages (from gensim==4.0.1->bnlp_toolkit) (5.2.1)\n",
            "Requirement already satisfied: click in /usr/local/lib/python3.7/dist-packages (from nltk->bnlp_toolkit) (7.1.2)\n",
            "Requirement already satisfied: joblib in /usr/local/lib/python3.7/dist-packages (from nltk->bnlp_toolkit) (1.2.0)\n",
            "Requirement already satisfied: tqdm in /usr/local/lib/python3.7/dist-packages (from nltk->bnlp_toolkit) (4.64.1)\n",
            "Requirement already satisfied: regex>=2021.8.3 in /usr/local/lib/python3.7/dist-packages (from nltk->bnlp_toolkit) (2022.6.2)\n",
            "Collecting python-crfsuite>=0.8.3\n",
            "  Downloading python_crfsuite-0.9.8-cp37-cp37m-manylinux_2_17_x86_64.manylinux2014_x86_64.whl (965 kB)\n",
            "\u001b[K     |████████████████████████████████| 965 kB 59.6 MB/s \n",
            "\u001b[?25hRequirement already satisfied: six in /usr/local/lib/python3.7/dist-packages (from sklearn-crfsuite->bnlp_toolkit) (1.15.0)\n",
            "Requirement already satisfied: tabulate in /usr/local/lib/python3.7/dist-packages (from sklearn-crfsuite->bnlp_toolkit) (0.8.10)\n",
            "Installing collected packages: python-crfsuite, sklearn-crfsuite, sentencepiece, gensim, bnlp-toolkit\n",
            "  Attempting uninstall: gensim\n",
            "    Found existing installation: gensim 3.6.0\n",
            "    Uninstalling gensim-3.6.0:\n",
            "      Successfully uninstalled gensim-3.6.0\n",
            "Successfully installed bnlp-toolkit-3.1.2 gensim-4.0.1 python-crfsuite-0.9.8 sentencepiece-0.1.97 sklearn-crfsuite-0.3.6\n"
          ]
        }
      ],
      "source": [
        "!pip install -U bnlp_toolkit"
      ]
    },
    {
      "cell_type": "code",
      "execution_count": 2,
      "metadata": {
        "colab": {
          "base_uri": "https://localhost:8080/"
        },
        "id": "fukiJ4cGf0m5",
        "outputId": "c14a3568-3db8-4339-f9ea-4a774a5832d8"
      },
      "outputs": [
        {
          "output_type": "stream",
          "name": "stdout",
          "text": [
            "punkt not found. downloading...\n"
          ]
        },
        {
          "output_type": "stream",
          "name": "stderr",
          "text": [
            "[nltk_data] Downloading package punkt to /root/nltk_data...\n",
            "[nltk_data]   Unzipping tokenizers/punkt.zip.\n",
            "/usr/local/lib/python3.7/dist-packages/gensim/similarities/__init__.py:15: UserWarning: The gensim.similarities.levenshtein submodule is disabled, because the optional Levenshtein package <https://pypi.org/project/python-Levenshtein/> is unavailable. Install Levenhstein (e.g. `pip install python-Levenshtein`) to suppress this warning.\n",
            "  warnings.warn(msg)\n"
          ]
        }
      ],
      "source": [
        "# Required Libraries\n",
        "\n",
        "from nltk import ngrams\n",
        "from collections import Counter\n",
        "import numpy as np\n",
        "import re\n",
        "from collections import OrderedDict\n",
        "import pandas as pd\n",
        "from google.colab import files\n",
        "import matplotlib.font_manager as fm\n",
        "import matplotlib.pyplot as plt\n",
        "\n",
        "\n",
        "from bnlp import NLTKTokenizer\n",
        "bnltk = NLTKTokenizer()"
      ]
    },
    {
      "cell_type": "markdown",
      "metadata": {
        "id": "fwIuxoMVgGQx"
      },
      "source": [
        "## Get Bangla Font\n",
        "1. Download font from the specified link\n",
        "2. Unzip the downloaded file\n",
        "3. Move Desired font style to `/usr/share/fonts/truetype/`\n",
        "4. Specify fontproperties"
      ]
    },
    {
      "cell_type": "code",
      "execution_count": 3,
      "metadata": {
        "colab": {
          "base_uri": "https://localhost:8080/"
        },
        "id": "KTaDKadCseNI",
        "outputId": "ddfa7c7a-5e58-400f-e35d-6c9855f61f79"
      },
      "outputs": [
        {
          "output_type": "stream",
          "name": "stdout",
          "text": [
            "--2022-10-12 17:03:13--  https://fonts.google.com/download?family=Noto%20Sans%20Bengali\n",
            "Resolving fonts.google.com (fonts.google.com)... 74.125.137.139, 74.125.137.101, 74.125.137.138, ...\n",
            "Connecting to fonts.google.com (fonts.google.com)|74.125.137.139|:443... connected.\n",
            "HTTP request sent, awaiting response... 200 OK\n",
            "Length: unspecified [application/zip]\n",
            "Saving to: ‘download?family=Noto Sans Bengali’\n",
            "\n",
            "download?family=Not     [  <=>               ]   3.19M  11.7MB/s    in 0.3s    \n",
            "\n",
            "2022-10-12 17:03:14 (11.7 MB/s) - ‘download?family=Noto Sans Bengali’ saved [3344095]\n",
            "\n"
          ]
        }
      ],
      "source": [
        "!wget \"https://fonts.google.com/download?family=Noto%20Sans%20Bengali\""
      ]
    },
    {
      "cell_type": "code",
      "execution_count": 4,
      "metadata": {
        "colab": {
          "base_uri": "https://localhost:8080/"
        },
        "id": "Ki02GPQIxTdS",
        "outputId": "bea52899-8927-4258-bccc-db42e61193c7"
      },
      "outputs": [
        {
          "output_type": "stream",
          "name": "stdout",
          "text": [
            "Archive:  /content/download?family=Noto Sans Bengali\n",
            "  inflating: OFL.txt                 \n",
            "  inflating: static/NotoSansBengali_ExtraCondensed/NotoSansBengali_ExtraCondensed-Thin.ttf  \n",
            "  inflating: static/NotoSansBengali_ExtraCondensed/NotoSansBengali_ExtraCondensed-ExtraLight.ttf  \n",
            "  inflating: static/NotoSansBengali_ExtraCondensed/NotoSansBengali_ExtraCondensed-Light.ttf  \n",
            "  inflating: static/NotoSansBengali_ExtraCondensed/NotoSansBengali_ExtraCondensed-Regular.ttf  \n",
            "  inflating: static/NotoSansBengali_ExtraCondensed/NotoSansBengali_ExtraCondensed-Medium.ttf  \n",
            "  inflating: static/NotoSansBengali_ExtraCondensed/NotoSansBengali_ExtraCondensed-SemiBold.ttf  \n",
            "  inflating: static/NotoSansBengali_ExtraCondensed/NotoSansBengali_ExtraCondensed-Bold.ttf  \n",
            "  inflating: static/NotoSansBengali_ExtraCondensed/NotoSansBengali_ExtraCondensed-ExtraBold.ttf  \n",
            "  inflating: static/NotoSansBengali_ExtraCondensed/NotoSansBengali_ExtraCondensed-Black.ttf  \n",
            "  inflating: static/NotoSansBengali_Condensed/NotoSansBengali_Condensed-Thin.ttf  \n",
            "  inflating: static/NotoSansBengali_Condensed/NotoSansBengali_Condensed-ExtraLight.ttf  \n",
            "  inflating: static/NotoSansBengali_Condensed/NotoSansBengali_Condensed-Light.ttf  \n",
            "  inflating: static/NotoSansBengali_Condensed/NotoSansBengali_Condensed-Regular.ttf  \n",
            "  inflating: static/NotoSansBengali_Condensed/NotoSansBengali_Condensed-Medium.ttf  \n",
            "  inflating: static/NotoSansBengali_Condensed/NotoSansBengali_Condensed-SemiBold.ttf  \n",
            "  inflating: static/NotoSansBengali_Condensed/NotoSansBengali_Condensed-Bold.ttf  \n",
            "  inflating: static/NotoSansBengali_Condensed/NotoSansBengali_Condensed-ExtraBold.ttf  \n",
            "  inflating: static/NotoSansBengali_Condensed/NotoSansBengali_Condensed-Black.ttf  \n",
            "  inflating: static/NotoSansBengali_SemiCondensed/NotoSansBengali_SemiCondensed-Thin.ttf  \n",
            "  inflating: static/NotoSansBengali_SemiCondensed/NotoSansBengali_SemiCondensed-ExtraLight.ttf  \n",
            "  inflating: static/NotoSansBengali_SemiCondensed/NotoSansBengali_SemiCondensed-Light.ttf  \n",
            "  inflating: static/NotoSansBengali_SemiCondensed/NotoSansBengali_SemiCondensed-Regular.ttf  \n",
            "  inflating: static/NotoSansBengali_SemiCondensed/NotoSansBengali_SemiCondensed-Medium.ttf  \n",
            "  inflating: static/NotoSansBengali_SemiCondensed/NotoSansBengali_SemiCondensed-SemiBold.ttf  \n",
            "  inflating: static/NotoSansBengali_SemiCondensed/NotoSansBengali_SemiCondensed-Bold.ttf  \n",
            "  inflating: static/NotoSansBengali_SemiCondensed/NotoSansBengali_SemiCondensed-ExtraBold.ttf  \n",
            "  inflating: static/NotoSansBengali_SemiCondensed/NotoSansBengali_SemiCondensed-Black.ttf  \n",
            "  inflating: static/NotoSansBengali/NotoSansBengali-Thin.ttf  \n",
            "  inflating: static/NotoSansBengali/NotoSansBengali-ExtraLight.ttf  \n",
            "  inflating: static/NotoSansBengali/NotoSansBengali-Light.ttf  \n",
            "  inflating: static/NotoSansBengali/NotoSansBengali-Regular.ttf  \n",
            "  inflating: static/NotoSansBengali/NotoSansBengali-Medium.ttf  \n",
            "  inflating: static/NotoSansBengali/NotoSansBengali-SemiBold.ttf  \n",
            "  inflating: static/NotoSansBengali/NotoSansBengali-Bold.ttf  \n",
            "  inflating: static/NotoSansBengali/NotoSansBengali-ExtraBold.ttf  \n",
            "  inflating: static/NotoSansBengali/NotoSansBengali-Black.ttf  \n",
            "  inflating: NotoSansBengali-VariableFont_wdth,wght.ttf  \n",
            "  inflating: README.txt              \n"
          ]
        }
      ],
      "source": [
        "!unzip \"/content/download?family=Noto Sans Bengali\""
      ]
    },
    {
      "cell_type": "code",
      "execution_count": 5,
      "metadata": {
        "id": "RNmwcFMMxiKE"
      },
      "outputs": [],
      "source": [
        "!mv /content/static/NotoSansBengali/NotoSansBengali-Medium.ttf /usr/share/fonts/truetype/"
      ]
    },
    {
      "cell_type": "code",
      "execution_count": 6,
      "metadata": {
        "id": "swQ0TnIiyOKa"
      },
      "outputs": [],
      "source": [
        "path = '/usr/share/fonts/truetype/NotoSansBengali-Medium.ttf'\n",
        "fontprop = fm.FontProperties(fname=path, size= 15)"
      ]
    },
    {
      "cell_type": "markdown",
      "metadata": {
        "id": "XgCEVIsRhYmY"
      },
      "source": [
        "## Read csv and tokenize bangla words"
      ]
    },
    {
      "cell_type": "code",
      "execution_count": 52,
      "metadata": {
        "colab": {
          "base_uri": "https://localhost:8080/",
          "height": 589
        },
        "id": "5k9DcOdiZcGg",
        "outputId": "68388942-dc04-4c8f-ead5-2414a57a0fd5"
      },
      "outputs": [
        {
          "output_type": "execute_result",
          "data": {
            "text/plain": [
              "                                         Title  \\\n",
              "0                              আ স্টার ইজ বর্ন   \n",
              "1                                   না বলা কথা   \n",
              "2        Ovid এর art of love (ভালবাসার ছলাকলা)   \n",
              "3                          Ovid এর Art of love   \n",
              "4        Ovid এর Art of Love (ভালবাসার ছলাকলা)   \n",
              "...                                        ...   \n",
              "25542  একটি অখাদ্য পোষ্ট - \"২০১২\" মুভি। X( X((   \n",
              "25543                   এইখানে আগমণ করিলাম। ;)   \n",
              "25544                   মামুলী রোমান্টিক কবিতা   \n",
              "25545                    অতলস্পর্শ অনুভবে তুমি   \n",
              "25546           একটা একঘেঁয়ে ভূতুড়ে অভিজ্ঞতা   \n",
              "\n",
              "                                                 Details  \\\n",
              "0      প্রতিরাতের মতন আজও আমি ছাদে উঠে এলাম। তবে আজকে...   \n",
              "1      ঐ চোখের পানে চেয়ে দেখেছিলেম পৃথিবীকে সাথে রঙিন...   \n",
              "2      পুবলিয়াস ওভিডাস নাসো(ওভিড) জন্মস্থানঃসুমিলো,রো...   \n",
              "3      পুবলিয়াস ওভিডাস নাসো(ওভিড) জন্মস্থানঃসুমিলো,রো...   \n",
              "4      পুবলিয়াস ওভিডাস নাসো(ওভিড) জন্মস্থানঃসুমিলো,রো...   \n",
              "...                                                  ...   \n",
              "25542  মেজাজটা খুবই খারাপ হলো কাল রাতে।অনেক সুনাম-দুর...   \n",
              "25543  মেজাজ চরম খারাপ হয়ে আছে।  ২০১২ মুভিটা দেখে.......   \n",
              "25544  জানিসনারে বন্ধু ও তোর অপেক্ষারই প্রহর আমার লাগ...   \n",
              "25545  আকাশ স্পর্শ করতে শিখিয়েছিলে তুমি আমায় বলেছিলে,...   \n",
              "25546  গতকাল রাতে তিনটায় আমার গাড়ীর ভিতর তিনটা ভূত ...   \n",
              "\n",
              "                    Category           Writer               Date  \n",
              "0         গল্প,জাদু বাস্তবতা      অর্নব ফায়েক      ৩০ আগষ্ট ২০২২  \n",
              "1                        NaN  মোঃ ফরহাদ হোসেন      ১৮ আগষ্ট ২০২২  \n",
              "2      ধারাবাহিক,গল্প-অনুবাদ             ইললু       ৭ আগষ্ট ২০২২  \n",
              "3           অনুবাদ,ধারাবাহিক             ইললু        ১৪ জুন ২০২২  \n",
              "4                     অনুবাদ             ইললু         ২৬ মে ২০২২  \n",
              "...                      ...              ...                ...  \n",
              "25542                    NaN           নির্ঝর  ৮ ফেব্রুয়ারী ২০১০  \n",
              "25543                    NaN           নির্ঝর  ৭ ফেব্রুয়ারী ২০১০  \n",
              "25544                    NaN         শাওন৩৫০৪  ৬ ফেব্রুয়ারী ২০১০  \n",
              "25545                    NaN             জলরঙ  ৬ ফেব্রুয়ারী ২০১০  \n",
              "25546           ছোটগল্প,গল্প     শূন্য আরণ্যক  ৬ ফেব্রুয়ারী ২০১০  \n",
              "\n",
              "[25547 rows x 5 columns]"
            ],
            "text/html": [
              "\n",
              "  <div id=\"df-906f9a3a-b01a-4fc2-95ab-7e7add7bd22f\">\n",
              "    <div class=\"colab-df-container\">\n",
              "      <div>\n",
              "<style scoped>\n",
              "    .dataframe tbody tr th:only-of-type {\n",
              "        vertical-align: middle;\n",
              "    }\n",
              "\n",
              "    .dataframe tbody tr th {\n",
              "        vertical-align: top;\n",
              "    }\n",
              "\n",
              "    .dataframe thead th {\n",
              "        text-align: right;\n",
              "    }\n",
              "</style>\n",
              "<table border=\"1\" class=\"dataframe\">\n",
              "  <thead>\n",
              "    <tr style=\"text-align: right;\">\n",
              "      <th></th>\n",
              "      <th>Title</th>\n",
              "      <th>Details</th>\n",
              "      <th>Category</th>\n",
              "      <th>Writer</th>\n",
              "      <th>Date</th>\n",
              "    </tr>\n",
              "  </thead>\n",
              "  <tbody>\n",
              "    <tr>\n",
              "      <th>0</th>\n",
              "      <td>আ স্টার ইজ বর্ন</td>\n",
              "      <td>প্রতিরাতের মতন আজও আমি ছাদে উঠে এলাম। তবে আজকে...</td>\n",
              "      <td>গল্প,জাদু বাস্তবতা</td>\n",
              "      <td>অর্নব ফায়েক</td>\n",
              "      <td>৩০ আগষ্ট ২০২২</td>\n",
              "    </tr>\n",
              "    <tr>\n",
              "      <th>1</th>\n",
              "      <td>না বলা কথা</td>\n",
              "      <td>ঐ চোখের পানে চেয়ে দেখেছিলেম পৃথিবীকে সাথে রঙিন...</td>\n",
              "      <td>NaN</td>\n",
              "      <td>মোঃ ফরহাদ হোসেন</td>\n",
              "      <td>১৮ আগষ্ট ২০২২</td>\n",
              "    </tr>\n",
              "    <tr>\n",
              "      <th>2</th>\n",
              "      <td>Ovid এর art of love (ভালবাসার ছলাকলা)</td>\n",
              "      <td>পুবলিয়াস ওভিডাস নাসো(ওভিড) জন্মস্থানঃসুমিলো,রো...</td>\n",
              "      <td>ধারাবাহিক,গল্প-অনুবাদ</td>\n",
              "      <td>ইললু</td>\n",
              "      <td>৭ আগষ্ট ২০২২</td>\n",
              "    </tr>\n",
              "    <tr>\n",
              "      <th>3</th>\n",
              "      <td>Ovid এর Art of love</td>\n",
              "      <td>পুবলিয়াস ওভিডাস নাসো(ওভিড) জন্মস্থানঃসুমিলো,রো...</td>\n",
              "      <td>অনুবাদ,ধারাবাহিক</td>\n",
              "      <td>ইললু</td>\n",
              "      <td>১৪ জুন ২০২২</td>\n",
              "    </tr>\n",
              "    <tr>\n",
              "      <th>4</th>\n",
              "      <td>Ovid এর Art of Love (ভালবাসার ছলাকলা)</td>\n",
              "      <td>পুবলিয়াস ওভিডাস নাসো(ওভিড) জন্মস্থানঃসুমিলো,রো...</td>\n",
              "      <td>অনুবাদ</td>\n",
              "      <td>ইললু</td>\n",
              "      <td>২৬ মে ২০২২</td>\n",
              "    </tr>\n",
              "    <tr>\n",
              "      <th>...</th>\n",
              "      <td>...</td>\n",
              "      <td>...</td>\n",
              "      <td>...</td>\n",
              "      <td>...</td>\n",
              "      <td>...</td>\n",
              "    </tr>\n",
              "    <tr>\n",
              "      <th>25542</th>\n",
              "      <td>একটি অখাদ্য পোষ্ট - \"২০১২\" মুভি। X( X((</td>\n",
              "      <td>মেজাজটা খুবই খারাপ হলো কাল রাতে।অনেক সুনাম-দুর...</td>\n",
              "      <td>NaN</td>\n",
              "      <td>নির্ঝর</td>\n",
              "      <td>৮ ফেব্রুয়ারী ২০১০</td>\n",
              "    </tr>\n",
              "    <tr>\n",
              "      <th>25543</th>\n",
              "      <td>এইখানে আগমণ করিলাম। ;)</td>\n",
              "      <td>মেজাজ চরম খারাপ হয়ে আছে।  ২০১২ মুভিটা দেখে.......</td>\n",
              "      <td>NaN</td>\n",
              "      <td>নির্ঝর</td>\n",
              "      <td>৭ ফেব্রুয়ারী ২০১০</td>\n",
              "    </tr>\n",
              "    <tr>\n",
              "      <th>25544</th>\n",
              "      <td>মামুলী রোমান্টিক কবিতা</td>\n",
              "      <td>জানিসনারে বন্ধু ও তোর অপেক্ষারই প্রহর আমার লাগ...</td>\n",
              "      <td>NaN</td>\n",
              "      <td>শাওন৩৫০৪</td>\n",
              "      <td>৬ ফেব্রুয়ারী ২০১০</td>\n",
              "    </tr>\n",
              "    <tr>\n",
              "      <th>25545</th>\n",
              "      <td>অতলস্পর্শ অনুভবে তুমি</td>\n",
              "      <td>আকাশ স্পর্শ করতে শিখিয়েছিলে তুমি আমায় বলেছিলে,...</td>\n",
              "      <td>NaN</td>\n",
              "      <td>জলরঙ</td>\n",
              "      <td>৬ ফেব্রুয়ারী ২০১০</td>\n",
              "    </tr>\n",
              "    <tr>\n",
              "      <th>25546</th>\n",
              "      <td>একটা একঘেঁয়ে ভূতুড়ে অভিজ্ঞতা</td>\n",
              "      <td>গতকাল রাতে তিনটায় আমার গাড়ীর ভিতর তিনটা ভূত ...</td>\n",
              "      <td>ছোটগল্প,গল্প</td>\n",
              "      <td>শূন্য আরণ্যক</td>\n",
              "      <td>৬ ফেব্রুয়ারী ২০১০</td>\n",
              "    </tr>\n",
              "  </tbody>\n",
              "</table>\n",
              "<p>25547 rows × 5 columns</p>\n",
              "</div>\n",
              "      <button class=\"colab-df-convert\" onclick=\"convertToInteractive('df-906f9a3a-b01a-4fc2-95ab-7e7add7bd22f')\"\n",
              "              title=\"Convert this dataframe to an interactive table.\"\n",
              "              style=\"display:none;\">\n",
              "        \n",
              "  <svg xmlns=\"http://www.w3.org/2000/svg\" height=\"24px\"viewBox=\"0 0 24 24\"\n",
              "       width=\"24px\">\n",
              "    <path d=\"M0 0h24v24H0V0z\" fill=\"none\"/>\n",
              "    <path d=\"M18.56 5.44l.94 2.06.94-2.06 2.06-.94-2.06-.94-.94-2.06-.94 2.06-2.06.94zm-11 1L8.5 8.5l.94-2.06 2.06-.94-2.06-.94L8.5 2.5l-.94 2.06-2.06.94zm10 10l.94 2.06.94-2.06 2.06-.94-2.06-.94-.94-2.06-.94 2.06-2.06.94z\"/><path d=\"M17.41 7.96l-1.37-1.37c-.4-.4-.92-.59-1.43-.59-.52 0-1.04.2-1.43.59L10.3 9.45l-7.72 7.72c-.78.78-.78 2.05 0 2.83L4 21.41c.39.39.9.59 1.41.59.51 0 1.02-.2 1.41-.59l7.78-7.78 2.81-2.81c.8-.78.8-2.07 0-2.86zM5.41 20L4 18.59l7.72-7.72 1.47 1.35L5.41 20z\"/>\n",
              "  </svg>\n",
              "      </button>\n",
              "      \n",
              "  <style>\n",
              "    .colab-df-container {\n",
              "      display:flex;\n",
              "      flex-wrap:wrap;\n",
              "      gap: 12px;\n",
              "    }\n",
              "\n",
              "    .colab-df-convert {\n",
              "      background-color: #E8F0FE;\n",
              "      border: none;\n",
              "      border-radius: 50%;\n",
              "      cursor: pointer;\n",
              "      display: none;\n",
              "      fill: #1967D2;\n",
              "      height: 32px;\n",
              "      padding: 0 0 0 0;\n",
              "      width: 32px;\n",
              "    }\n",
              "\n",
              "    .colab-df-convert:hover {\n",
              "      background-color: #E2EBFA;\n",
              "      box-shadow: 0px 1px 2px rgba(60, 64, 67, 0.3), 0px 1px 3px 1px rgba(60, 64, 67, 0.15);\n",
              "      fill: #174EA6;\n",
              "    }\n",
              "\n",
              "    [theme=dark] .colab-df-convert {\n",
              "      background-color: #3B4455;\n",
              "      fill: #D2E3FC;\n",
              "    }\n",
              "\n",
              "    [theme=dark] .colab-df-convert:hover {\n",
              "      background-color: #434B5C;\n",
              "      box-shadow: 0px 1px 3px 1px rgba(0, 0, 0, 0.15);\n",
              "      filter: drop-shadow(0px 1px 2px rgba(0, 0, 0, 0.3));\n",
              "      fill: #FFFFFF;\n",
              "    }\n",
              "  </style>\n",
              "\n",
              "      <script>\n",
              "        const buttonEl =\n",
              "          document.querySelector('#df-906f9a3a-b01a-4fc2-95ab-7e7add7bd22f button.colab-df-convert');\n",
              "        buttonEl.style.display =\n",
              "          google.colab.kernel.accessAllowed ? 'block' : 'none';\n",
              "\n",
              "        async function convertToInteractive(key) {\n",
              "          const element = document.querySelector('#df-906f9a3a-b01a-4fc2-95ab-7e7add7bd22f');\n",
              "          const dataTable =\n",
              "            await google.colab.kernel.invokeFunction('convertToInteractive',\n",
              "                                                     [key], {});\n",
              "          if (!dataTable) return;\n",
              "\n",
              "          const docLinkHtml = 'Like what you see? Visit the ' +\n",
              "            '<a target=\"_blank\" href=https://colab.research.google.com/notebooks/data_table.ipynb>data table notebook</a>'\n",
              "            + ' to learn more about interactive tables.';\n",
              "          element.innerHTML = '';\n",
              "          dataTable['output_type'] = 'display_data';\n",
              "          await google.colab.output.renderOutput(dataTable, element);\n",
              "          const docLink = document.createElement('div');\n",
              "          docLink.innerHTML = docLinkHtml;\n",
              "          element.appendChild(docLink);\n",
              "        }\n",
              "      </script>\n",
              "    </div>\n",
              "  </div>\n",
              "  "
            ]
          },
          "metadata": {},
          "execution_count": 52
        }
      ],
      "source": [
        "df = pd.read_csv(data_path)\n",
        "df"
      ]
    },
    {
      "cell_type": "code",
      "execution_count": null,
      "metadata": {
        "colab": {
          "base_uri": "https://localhost:8080/",
          "height": 138
        },
        "id": "F3rdSP9kTTeJ",
        "outputId": "6907cfe9-5662-48fe-fb84-5913bb701ced"
      },
      "outputs": [
        {
          "name": "stdout",
          "output_type": "stream",
          "text": [
            "extracted data as string\n",
            "tokenization done\n",
            "Bangla Word Extraction Done\n",
            "Saved words in a file\n"
          ]
        },
        {
          "data": {
            "application/javascript": [
              "\n",
              "    async function download(id, filename, size) {\n",
              "      if (!google.colab.kernel.accessAllowed) {\n",
              "        return;\n",
              "      }\n",
              "      const div = document.createElement('div');\n",
              "      const label = document.createElement('label');\n",
              "      label.textContent = `Downloading \"${filename}\": `;\n",
              "      div.appendChild(label);\n",
              "      const progress = document.createElement('progress');\n",
              "      progress.max = size;\n",
              "      div.appendChild(progress);\n",
              "      document.body.appendChild(div);\n",
              "\n",
              "      const buffers = [];\n",
              "      let downloaded = 0;\n",
              "\n",
              "      const channel = await google.colab.kernel.comms.open(id);\n",
              "      // Send a message to notify the kernel that we're ready.\n",
              "      channel.send({})\n",
              "\n",
              "      for await (const message of channel.messages) {\n",
              "        // Send a message to notify the kernel that we're ready.\n",
              "        channel.send({})\n",
              "        if (message.buffers) {\n",
              "          for (const buffer of message.buffers) {\n",
              "            buffers.push(buffer);\n",
              "            downloaded += buffer.byteLength;\n",
              "            progress.value = downloaded;\n",
              "          }\n",
              "        }\n",
              "      }\n",
              "      const blob = new Blob(buffers, {type: 'application/binary'});\n",
              "      const a = document.createElement('a');\n",
              "      a.href = window.URL.createObjectURL(blob);\n",
              "      a.download = filename;\n",
              "      div.appendChild(a);\n",
              "      a.click();\n",
              "      div.remove();\n",
              "    }\n",
              "  "
            ],
            "text/plain": [
              "<IPython.core.display.Javascript object>"
            ]
          },
          "metadata": {},
          "output_type": "display_data"
        },
        {
          "data": {
            "application/javascript": [
              "download(\"download_8ee1553c-c749-48c0-9b01-25851f2d37f8\", \"words_1.txt\", 41247620)"
            ],
            "text/plain": [
              "<IPython.core.display.Javascript object>"
            ]
          },
          "metadata": {},
          "output_type": "display_data"
        },
        {
          "name": "stdout",
          "output_type": "stream",
          "text": [
            "File downloaded\n",
            "Length is:  2735603\n"
          ]
        }
      ],
      "source": [
        "reader_1 = pd.read_csv(data_path)[:6387]\n",
        "text = reader_1.to_string()\n",
        "print('extracted data as string')\n",
        "\n",
        "tokens = bnltk.word_tokenize(text)\n",
        "print('tokenization done')\n",
        "\n",
        "words_1 = []  \n",
        "for token in tokens:\n",
        "    if re.findall(\"^[\\u0985-\\u09E5]+$\", token):\n",
        "        words_1.append(token)\n",
        "print(\"Bangla Word Extraction Done\")\n",
        "\n",
        "with open(\"words_1.txt\", \"w\") as f:\n",
        "    for w in words_1:\n",
        "        f.write(str(w) +\"\\n\")\n",
        "print('Saved words in a file')\n",
        "\n",
        "files.download('/content/words_1.txt')\n",
        "print('File downloaded')\n",
        "print(\"Length is: \", len(words_1))"
      ]
    },
    {
      "cell_type": "code",
      "execution_count": null,
      "metadata": {
        "colab": {
          "base_uri": "https://localhost:8080/",
          "height": 138
        },
        "id": "ph9X7LcRTWsY",
        "outputId": "e3fd450c-3e3f-476a-d0b4-8ea7301be94b"
      },
      "outputs": [
        {
          "name": "stdout",
          "output_type": "stream",
          "text": [
            "extracted data as string\n",
            "tokenization done\n",
            "Bangla Word Extraction Done\n",
            "Saved words in a file\n"
          ]
        },
        {
          "data": {
            "application/javascript": [
              "\n",
              "    async function download(id, filename, size) {\n",
              "      if (!google.colab.kernel.accessAllowed) {\n",
              "        return;\n",
              "      }\n",
              "      const div = document.createElement('div');\n",
              "      const label = document.createElement('label');\n",
              "      label.textContent = `Downloading \"${filename}\": `;\n",
              "      div.appendChild(label);\n",
              "      const progress = document.createElement('progress');\n",
              "      progress.max = size;\n",
              "      div.appendChild(progress);\n",
              "      document.body.appendChild(div);\n",
              "\n",
              "      const buffers = [];\n",
              "      let downloaded = 0;\n",
              "\n",
              "      const channel = await google.colab.kernel.comms.open(id);\n",
              "      // Send a message to notify the kernel that we're ready.\n",
              "      channel.send({})\n",
              "\n",
              "      for await (const message of channel.messages) {\n",
              "        // Send a message to notify the kernel that we're ready.\n",
              "        channel.send({})\n",
              "        if (message.buffers) {\n",
              "          for (const buffer of message.buffers) {\n",
              "            buffers.push(buffer);\n",
              "            downloaded += buffer.byteLength;\n",
              "            progress.value = downloaded;\n",
              "          }\n",
              "        }\n",
              "      }\n",
              "      const blob = new Blob(buffers, {type: 'application/binary'});\n",
              "      const a = document.createElement('a');\n",
              "      a.href = window.URL.createObjectURL(blob);\n",
              "      a.download = filename;\n",
              "      div.appendChild(a);\n",
              "      a.click();\n",
              "      div.remove();\n",
              "    }\n",
              "  "
            ],
            "text/plain": [
              "<IPython.core.display.Javascript object>"
            ]
          },
          "metadata": {},
          "output_type": "display_data"
        },
        {
          "data": {
            "application/javascript": [
              "download(\"download_bbe66cd8-086f-43bc-9535-92293c498026\", \"words_2.txt\", 45875388)"
            ],
            "text/plain": [
              "<IPython.core.display.Javascript object>"
            ]
          },
          "metadata": {},
          "output_type": "display_data"
        },
        {
          "name": "stdout",
          "output_type": "stream",
          "text": [
            "File downloaded\n",
            "Length is:  3006711\n"
          ]
        }
      ],
      "source": [
        "reader_2 = pd.read_csv(data_path)[6387:12774]\n",
        "text = reader_2.to_string()\n",
        "print('extracted data as string')\n",
        "\n",
        "tokens = bnltk.word_tokenize(text)\n",
        "print('tokenization done')\n",
        "\n",
        "words_2 = []  \n",
        "for token in tokens:\n",
        "    if re.findall(\"^[\\u0985-\\u09E5]+$\", token):\n",
        "        words_2.append(token)\n",
        "print(\"Bangla Word Extraction Done\")\n",
        "\n",
        "with open(\"words_2.txt\", \"w\") as f:\n",
        "    for w in words_2:\n",
        "        f.write(str(w) +\"\\n\")\n",
        "print('Saved words in a file')\n",
        "\n",
        "files.download('/content/words_2.txt')\n",
        "print('File downloaded')\n",
        "print(\"Length is: \", len(words_2))"
      ]
    },
    {
      "cell_type": "code",
      "execution_count": null,
      "metadata": {
        "colab": {
          "base_uri": "https://localhost:8080/",
          "height": 138
        },
        "id": "OW3Jb6GyTdOQ",
        "outputId": "e8e9fc01-03f8-465d-a051-3b5857218ba1"
      },
      "outputs": [
        {
          "output_type": "stream",
          "name": "stdout",
          "text": [
            "extracted data as string\n",
            "tokenization done\n",
            "Bangla Word Extraction Done\n",
            "Saved words in a file\n"
          ]
        },
        {
          "output_type": "display_data",
          "data": {
            "text/plain": [
              "<IPython.core.display.Javascript object>"
            ],
            "application/javascript": [
              "\n",
              "    async function download(id, filename, size) {\n",
              "      if (!google.colab.kernel.accessAllowed) {\n",
              "        return;\n",
              "      }\n",
              "      const div = document.createElement('div');\n",
              "      const label = document.createElement('label');\n",
              "      label.textContent = `Downloading \"${filename}\": `;\n",
              "      div.appendChild(label);\n",
              "      const progress = document.createElement('progress');\n",
              "      progress.max = size;\n",
              "      div.appendChild(progress);\n",
              "      document.body.appendChild(div);\n",
              "\n",
              "      const buffers = [];\n",
              "      let downloaded = 0;\n",
              "\n",
              "      const channel = await google.colab.kernel.comms.open(id);\n",
              "      // Send a message to notify the kernel that we're ready.\n",
              "      channel.send({})\n",
              "\n",
              "      for await (const message of channel.messages) {\n",
              "        // Send a message to notify the kernel that we're ready.\n",
              "        channel.send({})\n",
              "        if (message.buffers) {\n",
              "          for (const buffer of message.buffers) {\n",
              "            buffers.push(buffer);\n",
              "            downloaded += buffer.byteLength;\n",
              "            progress.value = downloaded;\n",
              "          }\n",
              "        }\n",
              "      }\n",
              "      const blob = new Blob(buffers, {type: 'application/binary'});\n",
              "      const a = document.createElement('a');\n",
              "      a.href = window.URL.createObjectURL(blob);\n",
              "      a.download = filename;\n",
              "      div.appendChild(a);\n",
              "      a.click();\n",
              "      div.remove();\n",
              "    }\n",
              "  "
            ]
          },
          "metadata": {}
        },
        {
          "output_type": "display_data",
          "data": {
            "text/plain": [
              "<IPython.core.display.Javascript object>"
            ],
            "application/javascript": [
              "download(\"download_69144526-d7c7-40de-8b6e-93664d5a2573\", \"words_3.txt\", 43708200)"
            ]
          },
          "metadata": {}
        },
        {
          "output_type": "stream",
          "name": "stdout",
          "text": [
            "File downloaded\n",
            "Length is:  2875728\n"
          ]
        }
      ],
      "source": [
        "reader_3 = pd.read_csv(data_path)[12774:19161]\n",
        "text = reader_3.to_string()\n",
        "print('extracted data as string')\n",
        "\n",
        "tokens = bnltk.word_tokenize(text)\n",
        "print('tokenization done')\n",
        "words_3 = []  \n",
        "\n",
        "for token in tokens:\n",
        "    if re.findall(\"^[\\u0985-\\u09E5]+$\", token):\n",
        "        words_3.append(token)\n",
        "print(\"Bangla Word Extraction Done\")\n",
        "\n",
        "with open(\"words_3.txt\", \"w\") as f:\n",
        "    for w in words_3:\n",
        "        f.write(str(w) +\"\\n\")\n",
        "print('Saved words in a file')\n",
        "\n",
        "files.download('/content/words_3.txt')\n",
        "print('File downloaded')\n",
        "print(\"Length is: \", len(words_3))"
      ]
    },
    {
      "cell_type": "code",
      "execution_count": null,
      "metadata": {
        "id": "3dYg79rvZ5kY",
        "colab": {
          "base_uri": "https://localhost:8080/",
          "height": 121
        },
        "outputId": "a60f0deb-0746-49b7-9f12-1c72db2a811d"
      },
      "outputs": [
        {
          "output_type": "stream",
          "name": "stdout",
          "text": [
            "extracted data as string\n",
            "tokenization done\n",
            "Bangla Word Extraction Done\n",
            "Saved words in a file\n"
          ]
        },
        {
          "output_type": "display_data",
          "data": {
            "text/plain": [
              "<IPython.core.display.Javascript object>"
            ],
            "application/javascript": [
              "\n",
              "    async function download(id, filename, size) {\n",
              "      if (!google.colab.kernel.accessAllowed) {\n",
              "        return;\n",
              "      }\n",
              "      const div = document.createElement('div');\n",
              "      const label = document.createElement('label');\n",
              "      label.textContent = `Downloading \"${filename}\": `;\n",
              "      div.appendChild(label);\n",
              "      const progress = document.createElement('progress');\n",
              "      progress.max = size;\n",
              "      div.appendChild(progress);\n",
              "      document.body.appendChild(div);\n",
              "\n",
              "      const buffers = [];\n",
              "      let downloaded = 0;\n",
              "\n",
              "      const channel = await google.colab.kernel.comms.open(id);\n",
              "      // Send a message to notify the kernel that we're ready.\n",
              "      channel.send({})\n",
              "\n",
              "      for await (const message of channel.messages) {\n",
              "        // Send a message to notify the kernel that we're ready.\n",
              "        channel.send({})\n",
              "        if (message.buffers) {\n",
              "          for (const buffer of message.buffers) {\n",
              "            buffers.push(buffer);\n",
              "            downloaded += buffer.byteLength;\n",
              "            progress.value = downloaded;\n",
              "          }\n",
              "        }\n",
              "      }\n",
              "      const blob = new Blob(buffers, {type: 'application/binary'});\n",
              "      const a = document.createElement('a');\n",
              "      a.href = window.URL.createObjectURL(blob);\n",
              "      a.download = filename;\n",
              "      div.appendChild(a);\n",
              "      a.click();\n",
              "      div.remove();\n",
              "    }\n",
              "  "
            ]
          },
          "metadata": {}
        },
        {
          "output_type": "display_data",
          "data": {
            "text/plain": [
              "<IPython.core.display.Javascript object>"
            ],
            "application/javascript": [
              "download(\"download_cb900bff-23cf-4906-bd55-4360ee4ec6f2\", \"words_4.txt\", 38192787)"
            ]
          },
          "metadata": {}
        },
        {
          "output_type": "stream",
          "name": "stdout",
          "text": [
            "File downloaded\n",
            "Length is:  2510739\n"
          ]
        }
      ],
      "source": [
        "reader_4 = pd.read_csv(data_path)[19161:]\n",
        "text = reader_4.to_string()\n",
        "print('extracted data as string')\n",
        "\n",
        "tokens = bnltk.word_tokenize(text)\n",
        "print('tokenization done')\n",
        "words_4 = []  \n",
        "\n",
        "for token in tokens:\n",
        "    if re.findall(\"^[\\u0985-\\u09E5]+$\", token):\n",
        "        words_4.append(token)\n",
        "print(\"Bangla Word Extraction Done\")\n",
        "\n",
        "with open(\"words_4.txt\", \"w\") as f:\n",
        "    for w in words_4:\n",
        "        f.write(str(w) +\"\\n\")\n",
        "print('Saved words in a file')\n",
        "\n",
        "files.download('/content/words_4.txt')\n",
        "print('File downloaded')\n",
        "print(\"Length is: \", len(words_4))"
      ]
    },
    {
      "cell_type": "code",
      "execution_count": 7,
      "metadata": {
        "id": "zRoqcdtSgM2G",
        "colab": {
          "base_uri": "https://localhost:8080/"
        },
        "outputId": "f5125fae-5026-4841-e6c2-211ea14696e6"
      },
      "outputs": [
        {
          "output_type": "stream",
          "name": "stdout",
          "text": [
            "File length: 2735603, 3006711, 2875728 & 2510739\n"
          ]
        }
      ],
      "source": [
        "def read_file(filename):\n",
        "  w = []\n",
        "  with open(filename, \"r\") as f:\n",
        "    for line in f:\n",
        "      w.append(line.strip())\n",
        "  return w\n",
        "\n",
        "words_1 = read_file('/content/words_1.txt')\n",
        "words_2 = read_file('/content/words_2.txt')\n",
        "words_3 = read_file('/content/words_3.txt')\n",
        "words_4 = read_file('/content/words_4.txt')\n",
        "\n",
        "print(f'File length: {len(words_1)}, {len(words_2)}, {len(words_3)} & {len(words_4)}')"
      ]
    },
    {
      "cell_type": "code",
      "execution_count": 8,
      "metadata": {
        "id": "6THctUdUAf-F",
        "colab": {
          "base_uri": "https://localhost:8080/"
        },
        "outputId": "686e8406-cbd4-435b-e312-965b9ccaf046"
      },
      "outputs": [
        {
          "output_type": "execute_result",
          "data": {
            "text/plain": [
              "11128781"
            ]
          },
          "metadata": {},
          "execution_count": 8
        }
      ],
      "source": [
        "words = words_1 + words_2 + words_3 + words_4\n",
        "len(words)"
      ]
    },
    {
      "cell_type": "markdown",
      "metadata": {
        "id": "R-htKQBnhgRB"
      },
      "source": [
        "## N-Grams\n",
        "- All n-grams\n",
        "- Unique n-grams\n",
        "- Frequency wise sorted\n",
        "- Alphabetically sorted"
      ]
    },
    {
      "cell_type": "code",
      "source": [
        "def write_to_text_file(filename, content):\n",
        "  with open(filename, \"w\") as f:\n",
        "    for w in content:\n",
        "        f.write(str(w) +\"\\n\")\n",
        "  print('Content saved in a txt file')"
      ],
      "metadata": {
        "id": "0N0xpORxpjMj"
      },
      "execution_count": 9,
      "outputs": []
    },
    {
      "cell_type": "code",
      "source": [
        "all_unigrams = words\n",
        "write_to_text_file('all_unigrams.txt', words)\n",
        "len(all_unigrams)"
      ],
      "metadata": {
        "colab": {
          "base_uri": "https://localhost:8080/"
        },
        "id": "n0RatxHhrDnA",
        "outputId": "a73d0cb6-55f4-43b4-a655-41add05db991"
      },
      "execution_count": 11,
      "outputs": [
        {
          "output_type": "stream",
          "name": "stdout",
          "text": [
            "Content saved in a txt file\n"
          ]
        },
        {
          "output_type": "execute_result",
          "data": {
            "text/plain": [
              "11128781"
            ]
          },
          "metadata": {},
          "execution_count": 11
        }
      ]
    },
    {
      "cell_type": "code",
      "source": [
        "all_bigrams = []\n",
        "for i in range(0, len(words), 2):\n",
        "  try:\n",
        "    all_bigrams.append(words[i] + \" \" + words[i+1])\n",
        "  except IndexError:\n",
        "    pass\n",
        "\n",
        "write_to_text_file('all_bigrams.txt', all_bigrams)\n",
        "len(all_bigrams)"
      ],
      "metadata": {
        "colab": {
          "base_uri": "https://localhost:8080/"
        },
        "id": "9NY3b3dV20cY",
        "outputId": "a547c810-99d6-4011-c69b-3831bd4f9a2c"
      },
      "execution_count": 12,
      "outputs": [
        {
          "output_type": "stream",
          "name": "stdout",
          "text": [
            "Content saved in a txt file\n"
          ]
        },
        {
          "output_type": "execute_result",
          "data": {
            "text/plain": [
              "5564390"
            ]
          },
          "metadata": {},
          "execution_count": 12
        }
      ]
    },
    {
      "cell_type": "code",
      "source": [
        "all_trigrams = []\n",
        "for i in range(0, len(words), 3):\n",
        "  try:\n",
        "    all_trigrams.append(words[i] + \" \" + words[i+1] + \" \" + words[i+2])\n",
        "  except IndexError:\n",
        "    pass\n",
        "\n",
        "write_to_text_file('all_trigrams.txt', all_trigrams)\n",
        "len(all_trigrams)"
      ],
      "metadata": {
        "colab": {
          "base_uri": "https://localhost:8080/"
        },
        "id": "e2FrHug53U7p",
        "outputId": "9462cc95-3792-4475-bc91-ecdf9224f0f4"
      },
      "execution_count": 13,
      "outputs": [
        {
          "output_type": "stream",
          "name": "stdout",
          "text": [
            "Content saved in a txt file\n"
          ]
        },
        {
          "output_type": "execute_result",
          "data": {
            "text/plain": [
              "3709593"
            ]
          },
          "metadata": {},
          "execution_count": 13
        }
      ]
    },
    {
      "cell_type": "code",
      "execution_count": 14,
      "metadata": {
        "id": "bPFQ-qYygV33"
      },
      "outputs": [],
      "source": [
        "def n_grams(words, n, name):\n",
        "  print(f\"-------{name}--------\")\n",
        "  # unsorted\n",
        "  print(f'Unique {name}...')\n",
        "  token_frequency= Counter(ngrams(words,n))\n",
        "  token_frequency ={\" \".join(key): value for key, value in token_frequency.items()}\n",
        "  token_frequency_frame = pd.DataFrame(token_frequency.items(),columns=['word','frequency'])\n",
        "  token_frequency_frame.to_csv(f'unique_{name}.csv',index=False, encoding='utf-8-sig')\n",
        "\n",
        "\n",
        "  # frequency wise sort\n",
        "  print('Frequency wise sorting...')\n",
        "  sorted_frequency_frame = pd.DataFrame(token_frequency.items(),columns=['word','frequency']).sort_values(by='frequency',ascending=False)\n",
        "  sorted_frequency_frame.to_csv(f'{name}_frequency_wise_sort.csv',index=False, encoding='utf-8-sig')\n",
        "\n",
        "\n",
        "  # alphabatically sort\n",
        "  print('Alphabetcally sorting...')\n",
        "  dict_aplha_sort = OrderedDict(sorted(token_frequency.items()))\n",
        "  alphabetic_sort_frame = pd.DataFrame(dict_aplha_sort.items(),columns=['word','frequency'])\n",
        "  alphabetic_sort_frame.to_csv(f'{name}_alphabetically_sort.csv',index=False, encoding='utf-8-sig')"
      ]
    },
    {
      "cell_type": "code",
      "execution_count": 15,
      "metadata": {
        "id": "C6XdFZcCGjv0",
        "colab": {
          "base_uri": "https://localhost:8080/"
        },
        "outputId": "5b6c0ae3-b536-49a4-fea5-7dbd39ff7919"
      },
      "outputs": [
        {
          "output_type": "stream",
          "name": "stdout",
          "text": [
            "-------unigram--------\n",
            "Unique unigram...\n",
            "Frequency wise sorting...\n",
            "Alphabetcally sorting...\n",
            "-------bigram--------\n",
            "Unique bigram...\n",
            "Frequency wise sorting...\n",
            "Alphabetcally sorting...\n",
            "-------trigram--------\n",
            "Unique trigram...\n",
            "Frequency wise sorting...\n",
            "Alphabetcally sorting...\n"
          ]
        }
      ],
      "source": [
        "unigram = n_grams(words, 1, 'unigram')\n",
        "bigram = n_grams(words, 2, 'bigram')\n",
        "trigram = n_grams(words, 3, 'trigram')"
      ]
    },
    {
      "cell_type": "markdown",
      "metadata": {
        "id": "DkiSmBCmiBE6"
      },
      "source": [
        "## Specific Letter wise Frequency"
      ]
    },
    {
      "cell_type": "code",
      "execution_count": 32,
      "metadata": {
        "id": "Fs99TWzFmAtp"
      },
      "outputs": [],
      "source": [
        "# List of all Bengali characters including letters and numbers\n",
        "BengaliLetterList = ['অ', 'আ', 'ই', 'ঈ', 'উ', 'ঊ', 'ঋ', 'এ', 'ঐ', 'ও', 'ঔ', 'ক', 'খ', 'গ', 'ঘ', 'ঙ', 'চ', 'ছ', 'জ', 'ঝ',\n",
        "                     'ঞ', 'ট', 'ঠ', 'ড', 'ঢ', 'ণ', 'ত', 'থ', 'দ', 'ধ', 'ন', 'প', 'ফ', 'ব', 'ভ', 'ম', 'য', 'র', 'ল', 'শ',\n",
        "                     'ষ', 'স', 'হ', 'ড়', 'ঢ়', 'য়']"
      ]
    },
    {
      "cell_type": "code",
      "execution_count": 33,
      "metadata": {
        "id": "UF6hFfr8lxQo"
      },
      "outputs": [],
      "source": [
        "def letter_frequencies(words, name):\n",
        "  # Letter Frequency... starts with specific letter\n",
        "  print(f'Frequency by First Letter({name})')\n",
        "  letter_freq = {}\n",
        "\n",
        "  for w in words:\n",
        "    start_with = w[0]\n",
        "    \n",
        "    if start_with in BengaliLetterList:\n",
        "      try:\n",
        "        letter_freq[start_with] += 1\n",
        "      except KeyError:\n",
        "        letter_freq[start_with] = 1\n",
        "\n",
        "  letter_freq = dict(sorted(letter_freq.items(), key=lambda item: item[0]))\n",
        "  letter_frequency_frame = pd.DataFrame(letter_freq.items(),columns=['Alphabet','frequency'])\n",
        "  letter_frequency_frame.to_csv(f'{name}_alphabet_wise_frequency.csv',index=False, encoding='utf-8-sig')"
      ]
    },
    {
      "cell_type": "code",
      "execution_count": 34,
      "metadata": {
        "id": "EbbACGG-mDBB",
        "colab": {
          "base_uri": "https://localhost:8080/"
        },
        "outputId": "a0aa78d5-7834-4de6-c960-b9c2c52a1273"
      },
      "outputs": [
        {
          "output_type": "stream",
          "name": "stdout",
          "text": [
            "Frequency by First Letter(unigram)\n",
            "Frequency by First Letter(bigram)\n",
            "Frequency by First Letter(trigram)\n"
          ]
        }
      ],
      "source": [
        "letter_frequencies(all_unigrams, 'unigram')\n",
        "letter_frequencies(all_bigrams, 'bigram')\n",
        "letter_frequencies(all_trigrams, 'trigram')"
      ]
    },
    {
      "cell_type": "code",
      "source": [
        "import glob\n",
        "ngram_path = glob.glob('/content/*.csv')\n",
        "\n",
        "for file in ngram_path:\n",
        "  files.download(file)"
      ],
      "metadata": {
        "id": "BggXFEPo9AHQ"
      },
      "execution_count": null,
      "outputs": []
    },
    {
      "cell_type": "markdown",
      "source": [
        "## CSV to txt file"
      ],
      "metadata": {
        "id": "NbAgMVMZ9QMF"
      }
    },
    {
      "cell_type": "code",
      "source": [
        "def csv_to_txt(csv_file, txt_file):\n",
        "  with open(csv_file, 'r') as f_in, open(txt_file, 'w') as f_out:\n",
        "    content = f_in.read().replace(',', ' ----> ')\n",
        "    f_out.write(content)\n",
        "  print(f\"Done Converting {csv_file} to {txt_file}\")\n",
        "  files.download(txt_file)"
      ],
      "metadata": {
        "id": "Sg3Q7zUj9UJZ"
      },
      "execution_count": 36,
      "outputs": []
    },
    {
      "cell_type": "code",
      "source": [
        "import glob, os\n",
        "ngram_path = glob.glob('/content/*.csv')\n",
        "\n",
        "for file in ngram_path:\n",
        "  basename = os.path.basename(file)\n",
        "  file_name = os.path.splitext(basename)[0]\n",
        "  csv_to_txt(file, f'{file_name}.txt')"
      ],
      "metadata": {
        "colab": {
          "base_uri": "https://localhost:8080/"
        },
        "id": "p8NjBfZN_hFp",
        "outputId": "73904222-e6b9-4c1f-b6ea-3d7aa3021a43"
      },
      "execution_count": 37,
      "outputs": [
        {
          "output_type": "stream",
          "name": "stdout",
          "text": [
            "Done Converting /content/unique_unigram.csv to unique_unigram.txt\n",
            "Done Converting /content/trigram_frequency_wise_sort.csv to trigram_frequency_wise_sort.txt\n",
            "Done Converting /content/unique_bigram.csv to unique_bigram.txt\n",
            "Done Converting /content/trigram_alphabet_wise_frequency.csv to trigram_alphabet_wise_frequency.txt\n",
            "Done Converting /content/unigram_alphabet_wise_frequency.csv to unigram_alphabet_wise_frequency.txt\n",
            "Done Converting /content/bigram_alphabet_wise_frequency.csv to bigram_alphabet_wise_frequency.txt\n",
            "Done Converting /content/unique_trigram.csv to unique_trigram.txt\n",
            "Done Converting /content/unigram_alphabetically_sort.csv to unigram_alphabetically_sort.txt\n",
            "Done Converting /content/unigram_frequency_wise_sort.csv to unigram_frequency_wise_sort.txt\n",
            "Done Converting /content/trigram_alphabetically_sort.csv to trigram_alphabetically_sort.txt\n",
            "Done Converting /content/bigram_alphabetically_sort.csv to bigram_alphabetically_sort.txt\n",
            "Done Converting /content/bigram_frequency_wise_sort.csv to bigram_frequency_wise_sort.txt\n"
          ]
        }
      ]
    },
    {
      "cell_type": "markdown",
      "metadata": {
        "id": "8boA2ARtiHP7"
      },
      "source": [
        "## CSV file to Histogram\n",
        "- Unigram\n",
        "- Bigram\n",
        "- Trigram\n",
        "- Letter Frequency"
      ]
    },
    {
      "cell_type": "code",
      "execution_count": 38,
      "metadata": {
        "id": "OWOVVJ2uiaOA"
      },
      "outputs": [],
      "source": [
        "from matplotlib import ticker\n",
        "\n",
        "def plot_histogram(data, name, size=(12.5, 8.0), font_size=26, saveFig=True):\n",
        "  fig, ax = plt.subplots(1, 1, figsize=size)\n",
        "  # fig = plt.figure(figsize=size) \n",
        "  fig.subplots_adjust(bottom=0.1)\n",
        "\n",
        "  barChart = plt.bar(list(data[list(data.keys())[0]].values()), list(data[list(data.keys())[1]].values()))  # Bar chart\n",
        "  plt.title(f'{name}', fontsize=font_size)  # Chart Title\n",
        "\n",
        "  # X-axes & Y-axes labels\n",
        "  ax.yaxis.set_major_formatter(ticker.ScalarFormatter(useMathText=True))\n",
        "  plt.xticks(list(data[list(data.keys())[0]].values()), data[list(data.keys())[0]].values(), \n",
        "             fontproperties=fontprop, rotation='vertical')\n",
        "  plt.yticks(np.arange(0, max(data[list(data.keys())[1]].values()) + max(data[list(data.keys())[1]].values()) // 4, \n",
        "                       max(data[list(data.keys())[1]].values()) // 10), fontproperties=fontprop)\n",
        "\n",
        "  # Add text to bar\n",
        "  for i in range(len(list(data[list(data.keys())[0]].values()))):\n",
        "      plt.text(i, list(data[list(data.keys())[1]].values())[i] + max(0.5, max(data[list(data.keys())[1]].values()) // 40), \n",
        "               list(data[list(data.keys())[1]].values())[i], ha='center', rotation='vertical')\n",
        "\n",
        "  # Labels    \n",
        "  plt.xlabel(f'{list(data.keys())[0]}')\n",
        "  plt.ylabel(f'{list(data.keys())[1]}')\n",
        "\n",
        "  # Display plot\n",
        "  plt.show()  \n",
        "\n",
        "  # save as png\n",
        "  if saveFig:\n",
        "    fig.savefig(f\"./{name}.png\", bbox_inches = 'tight')\n",
        "    files.download(f'/content/{name}.png')"
      ]
    },
    {
      "cell_type": "code",
      "execution_count": 24,
      "metadata": {
        "id": "WNwmX2UpytXK",
        "colab": {
          "base_uri": "https://localhost:8080/",
          "height": 582
        },
        "outputId": "40bdec8d-3264-493e-ef55-2674961f72a8"
      },
      "outputs": [
        {
          "output_type": "display_data",
          "data": {
            "text/plain": [
              "<Figure size 900x576 with 1 Axes>"
            ],
            "image/png": "[encoded data removed]"
          },
          "metadata": {
            "needs_background": "light"
          }
        },
        {
          "output_type": "display_data",
          "data": {
            "text/plain": [
              "<IPython.core.display.Javascript object>"
            ],
            "application/javascript": [
              "\n",
              "    async function download(id, filename, size) {\n",
              "      if (!google.colab.kernel.accessAllowed) {\n",
              "        return;\n",
              "      }\n",
              "      const div = document.createElement('div');\n",
              "      const label = document.createElement('label');\n",
              "      label.textContent = `Downloading \"${filename}\": `;\n",
              "      div.appendChild(label);\n",
              "      const progress = document.createElement('progress');\n",
              "      progress.max = size;\n",
              "      div.appendChild(progress);\n",
              "      document.body.appendChild(div);\n",
              "\n",
              "      const buffers = [];\n",
              "      let downloaded = 0;\n",
              "\n",
              "      const channel = await google.colab.kernel.comms.open(id);\n",
              "      // Send a message to notify the kernel that we're ready.\n",
              "      channel.send({})\n",
              "\n",
              "      for await (const message of channel.messages) {\n",
              "        // Send a message to notify the kernel that we're ready.\n",
              "        channel.send({})\n",
              "        if (message.buffers) {\n",
              "          for (const buffer of message.buffers) {\n",
              "            buffers.push(buffer);\n",
              "            downloaded += buffer.byteLength;\n",
              "            progress.value = downloaded;\n",
              "          }\n",
              "        }\n",
              "      }\n",
              "      const blob = new Blob(buffers, {type: 'application/binary'});\n",
              "      const a = document.createElement('a');\n",
              "      a.href = window.URL.createObjectURL(blob);\n",
              "      a.download = filename;\n",
              "      div.appendChild(a);\n",
              "      a.click();\n",
              "      div.remove();\n",
              "    }\n",
              "  "
            ]
          },
          "metadata": {}
        },
        {
          "output_type": "display_data",
          "data": {
            "text/plain": [
              "<IPython.core.display.Javascript object>"
            ],
            "application/javascript": [
              "download(\"download_51ebd435-50d8-4e46-a59f-9ade36cd5a54\", \"Unigram (Top 30 Results).png\", 57416)"
            ]
          },
          "metadata": {}
        }
      ],
      "source": [
        "data = pd.read_csv('/content/unigram_frequency_wise_sort.csv', index_col=False)[:30].to_dict()\n",
        "plot_histogram(data, 'Unigram (Top 30 Results)')"
      ]
    },
    {
      "cell_type": "code",
      "execution_count": 25,
      "metadata": {
        "id": "UtowIc84VKBK",
        "colab": {
          "base_uri": "https://localhost:8080/",
          "height": 609
        },
        "outputId": "f7f4850f-5d6c-42e5-c9d3-8ca718484b52"
      },
      "outputs": [
        {
          "output_type": "display_data",
          "data": {
            "text/plain": [
              "<Figure size 900x576 with 1 Axes>"
            ],
            "image/png": "[encoded data removed]"
          },
          "metadata": {
            "needs_background": "light"
          }
        },
        {
          "output_type": "display_data",
          "data": {
            "text/plain": [
              "<IPython.core.display.Javascript object>"
            ],
            "application/javascript": [
              "\n",
              "    async function download(id, filename, size) {\n",
              "      if (!google.colab.kernel.accessAllowed) {\n",
              "        return;\n",
              "      }\n",
              "      const div = document.createElement('div');\n",
              "      const label = document.createElement('label');\n",
              "      label.textContent = `Downloading \"${filename}\": `;\n",
              "      div.appendChild(label);\n",
              "      const progress = document.createElement('progress');\n",
              "      progress.max = size;\n",
              "      div.appendChild(progress);\n",
              "      document.body.appendChild(div);\n",
              "\n",
              "      const buffers = [];\n",
              "      let downloaded = 0;\n",
              "\n",
              "      const channel = await google.colab.kernel.comms.open(id);\n",
              "      // Send a message to notify the kernel that we're ready.\n",
              "      channel.send({})\n",
              "\n",
              "      for await (const message of channel.messages) {\n",
              "        // Send a message to notify the kernel that we're ready.\n",
              "        channel.send({})\n",
              "        if (message.buffers) {\n",
              "          for (const buffer of message.buffers) {\n",
              "            buffers.push(buffer);\n",
              "            downloaded += buffer.byteLength;\n",
              "            progress.value = downloaded;\n",
              "          }\n",
              "        }\n",
              "      }\n",
              "      const blob = new Blob(buffers, {type: 'application/binary'});\n",
              "      const a = document.createElement('a');\n",
              "      a.href = window.URL.createObjectURL(blob);\n",
              "      a.download = filename;\n",
              "      div.appendChild(a);\n",
              "      a.click();\n",
              "      div.remove();\n",
              "    }\n",
              "  "
            ]
          },
          "metadata": {}
        },
        {
          "output_type": "display_data",
          "data": {
            "text/plain": [
              "<IPython.core.display.Javascript object>"
            ],
            "application/javascript": [
              "download(\"download_761b1cb0-9318-4d8f-a602-2071196e25ac\", \"Bigram (Top 30 Results).png\", 61672)"
            ]
          },
          "metadata": {}
        }
      ],
      "source": [
        "data = pd.read_csv('/content/bigram_frequency_wise_sort.csv', index_col=False)[:30].to_dict()\n",
        "plot_histogram(data, 'Bigram (Top 30 Results)')"
      ]
    },
    {
      "cell_type": "code",
      "execution_count": 26,
      "metadata": {
        "id": "9YhIqJ8GVObz",
        "colab": {
          "base_uri": "https://localhost:8080/",
          "height": 659
        },
        "outputId": "50a06d5e-2431-4ed8-a177-f4096c4b4a41"
      },
      "outputs": [
        {
          "output_type": "display_data",
          "data": {
            "text/plain": [
              "<Figure size 900x576 with 1 Axes>"
            ],
            "image/png": "[encoded data removed]"
          },
          "metadata": {
            "needs_background": "light"
          }
        },
        {
          "output_type": "display_data",
          "data": {
            "text/plain": [
              "<IPython.core.display.Javascript object>"
            ],
            "application/javascript": [
              "\n",
              "    async function download(id, filename, size) {\n",
              "      if (!google.colab.kernel.accessAllowed) {\n",
              "        return;\n",
              "      }\n",
              "      const div = document.createElement('div');\n",
              "      const label = document.createElement('label');\n",
              "      label.textContent = `Downloading \"${filename}\": `;\n",
              "      div.appendChild(label);\n",
              "      const progress = document.createElement('progress');\n",
              "      progress.max = size;\n",
              "      div.appendChild(progress);\n",
              "      document.body.appendChild(div);\n",
              "\n",
              "      const buffers = [];\n",
              "      let downloaded = 0;\n",
              "\n",
              "      const channel = await google.colab.kernel.comms.open(id);\n",
              "      // Send a message to notify the kernel that we're ready.\n",
              "      channel.send({})\n",
              "\n",
              "      for await (const message of channel.messages) {\n",
              "        // Send a message to notify the kernel that we're ready.\n",
              "        channel.send({})\n",
              "        if (message.buffers) {\n",
              "          for (const buffer of message.buffers) {\n",
              "            buffers.push(buffer);\n",
              "            downloaded += buffer.byteLength;\n",
              "            progress.value = downloaded;\n",
              "          }\n",
              "        }\n",
              "      }\n",
              "      const blob = new Blob(buffers, {type: 'application/binary'});\n",
              "      const a = document.createElement('a');\n",
              "      a.href = window.URL.createObjectURL(blob);\n",
              "      a.download = filename;\n",
              "      div.appendChild(a);\n",
              "      a.click();\n",
              "      div.remove();\n",
              "    }\n",
              "  "
            ]
          },
          "metadata": {}
        },
        {
          "output_type": "display_data",
          "data": {
            "text/plain": [
              "<IPython.core.display.Javascript object>"
            ],
            "application/javascript": [
              "download(\"download_03760803-7891-4188-b560-fdbaaab2a1cb\", \"Trigram (Top 30 Results).png\", 76691)"
            ]
          },
          "metadata": {}
        }
      ],
      "source": [
        "data = pd.read_csv('/content/trigram_frequency_wise_sort.csv', index_col=False)[:30].to_dict()\n",
        "plot_histogram(data, 'Trigram (Top 30 Results)')"
      ]
    },
    {
      "cell_type": "code",
      "execution_count": 39,
      "metadata": {
        "id": "wgL-PoHIVWLx",
        "colab": {
          "base_uri": "https://localhost:8080/",
          "height": 545
        },
        "outputId": "bc48d602-cb75-4e7c-c820-97db77298f75"
      },
      "outputs": [
        {
          "output_type": "display_data",
          "data": {
            "text/plain": [
              "<Figure size 900x576 with 1 Axes>"
            ],
            "image/png": "[encoded data removed]"
          },
          "metadata": {
            "needs_background": "light"
          }
        },
        {
          "output_type": "display_data",
          "data": {
            "text/plain": [
              "<IPython.core.display.Javascript object>"
            ],
            "application/javascript": [
              "\n",
              "    async function download(id, filename, size) {\n",
              "      if (!google.colab.kernel.accessAllowed) {\n",
              "        return;\n",
              "      }\n",
              "      const div = document.createElement('div');\n",
              "      const label = document.createElement('label');\n",
              "      label.textContent = `Downloading \"${filename}\": `;\n",
              "      div.appendChild(label);\n",
              "      const progress = document.createElement('progress');\n",
              "      progress.max = size;\n",
              "      div.appendChild(progress);\n",
              "      document.body.appendChild(div);\n",
              "\n",
              "      const buffers = [];\n",
              "      let downloaded = 0;\n",
              "\n",
              "      const channel = await google.colab.kernel.comms.open(id);\n",
              "      // Send a message to notify the kernel that we're ready.\n",
              "      channel.send({})\n",
              "\n",
              "      for await (const message of channel.messages) {\n",
              "        // Send a message to notify the kernel that we're ready.\n",
              "        channel.send({})\n",
              "        if (message.buffers) {\n",
              "          for (const buffer of message.buffers) {\n",
              "            buffers.push(buffer);\n",
              "            downloaded += buffer.byteLength;\n",
              "            progress.value = downloaded;\n",
              "          }\n",
              "        }\n",
              "      }\n",
              "      const blob = new Blob(buffers, {type: 'application/binary'});\n",
              "      const a = document.createElement('a');\n",
              "      a.href = window.URL.createObjectURL(blob);\n",
              "      a.download = filename;\n",
              "      div.appendChild(a);\n",
              "      a.click();\n",
              "      div.remove();\n",
              "    }\n",
              "  "
            ]
          },
          "metadata": {}
        },
        {
          "output_type": "display_data",
          "data": {
            "text/plain": [
              "<IPython.core.display.Javascript object>"
            ],
            "application/javascript": [
              "download(\"download_a705b0a9-d6f8-4052-bdf3-d118a19f946a\", \"unigram_alphabet_wise_frequency.png\", 62447)"
            ]
          },
          "metadata": {}
        }
      ],
      "source": [
        "data = pd.read_csv('/content/unigram_alphabet_wise_frequency.csv', index_col=False).to_dict()\n",
        "plot_histogram(data, 'unigram_alphabet_wise_frequency')"
      ]
    },
    {
      "cell_type": "code",
      "source": [
        "data = pd.read_csv('/content/bigram_alphabet_wise_frequency.csv', index_col=False).to_dict()\n",
        "plot_histogram(data, 'bigram_alphabet_wise_frequency')"
      ],
      "metadata": {
        "colab": {
          "base_uri": "https://localhost:8080/",
          "height": 545
        },
        "id": "6DdXA-vFJJ2w",
        "outputId": "d427637e-b0dd-4db7-d91f-8466af03b8ed"
      },
      "execution_count": 40,
      "outputs": [
        {
          "output_type": "display_data",
          "data": {
            "text/plain": [
              "<Figure size 900x576 with 1 Axes>"
            ],
            "image/png": "[encoded data removed]"
          },
          "metadata": {
            "needs_background": "light"
          }
        },
        {
          "output_type": "display_data",
          "data": {
            "text/plain": [
              "<IPython.core.display.Javascript object>"
            ],
            "application/javascript": [
              "\n",
              "    async function download(id, filename, size) {\n",
              "      if (!google.colab.kernel.accessAllowed) {\n",
              "        return;\n",
              "      }\n",
              "      const div = document.createElement('div');\n",
              "      const label = document.createElement('label');\n",
              "      label.textContent = `Downloading \"${filename}\": `;\n",
              "      div.appendChild(label);\n",
              "      const progress = document.createElement('progress');\n",
              "      progress.max = size;\n",
              "      div.appendChild(progress);\n",
              "      document.body.appendChild(div);\n",
              "\n",
              "      const buffers = [];\n",
              "      let downloaded = 0;\n",
              "\n",
              "      const channel = await google.colab.kernel.comms.open(id);\n",
              "      // Send a message to notify the kernel that we're ready.\n",
              "      channel.send({})\n",
              "\n",
              "      for await (const message of channel.messages) {\n",
              "        // Send a message to notify the kernel that we're ready.\n",
              "        channel.send({})\n",
              "        if (message.buffers) {\n",
              "          for (const buffer of message.buffers) {\n",
              "            buffers.push(buffer);\n",
              "            downloaded += buffer.byteLength;\n",
              "            progress.value = downloaded;\n",
              "          }\n",
              "        }\n",
              "      }\n",
              "      const blob = new Blob(buffers, {type: 'application/binary'});\n",
              "      const a = document.createElement('a');\n",
              "      a.href = window.URL.createObjectURL(blob);\n",
              "      a.download = filename;\n",
              "      div.appendChild(a);\n",
              "      a.click();\n",
              "      div.remove();\n",
              "    }\n",
              "  "
            ]
          },
          "metadata": {}
        },
        {
          "output_type": "display_data",
          "data": {
            "text/plain": [
              "<IPython.core.display.Javascript object>"
            ],
            "application/javascript": [
              "download(\"download_276f843f-f930-4e7d-b178-7ba6e7930c83\", \"bigram_alphabet_wise_frequency.png\", 63321)"
            ]
          },
          "metadata": {}
        }
      ]
    },
    {
      "cell_type": "code",
      "source": [
        "data = pd.read_csv('/content/trigram_alphabet_wise_frequency.csv', index_col=False).to_dict()\n",
        "plot_histogram(data, 'trigram_alphabet_wise_frequency')"
      ],
      "metadata": {
        "colab": {
          "base_uri": "https://localhost:8080/",
          "height": 545
        },
        "id": "7lhIUE4uJKbc",
        "outputId": "58cc60c2-a994-49f8-bf55-507325e65465"
      },
      "execution_count": 41,
      "outputs": [
        {
          "output_type": "display_data",
          "data": {
            "text/plain": [
              "<Figure size 900x576 with 1 Axes>"
            ],
            "image/png": "[encoded data removed]"
          },
          "metadata": {
            "needs_background": "light"
          }
        },
        {
          "output_type": "display_data",
          "data": {
            "text/plain": [
              "<IPython.core.display.Javascript object>"
            ],
            "application/javascript": [
              "\n",
              "    async function download(id, filename, size) {\n",
              "      if (!google.colab.kernel.accessAllowed) {\n",
              "        return;\n",
              "      }\n",
              "      const div = document.createElement('div');\n",
              "      const label = document.createElement('label');\n",
              "      label.textContent = `Downloading \"${filename}\": `;\n",
              "      div.appendChild(label);\n",
              "      const progress = document.createElement('progress');\n",
              "      progress.max = size;\n",
              "      div.appendChild(progress);\n",
              "      document.body.appendChild(div);\n",
              "\n",
              "      const buffers = [];\n",
              "      let downloaded = 0;\n",
              "\n",
              "      const channel = await google.colab.kernel.comms.open(id);\n",
              "      // Send a message to notify the kernel that we're ready.\n",
              "      channel.send({})\n",
              "\n",
              "      for await (const message of channel.messages) {\n",
              "        // Send a message to notify the kernel that we're ready.\n",
              "        channel.send({})\n",
              "        if (message.buffers) {\n",
              "          for (const buffer of message.buffers) {\n",
              "            buffers.push(buffer);\n",
              "            downloaded += buffer.byteLength;\n",
              "            progress.value = downloaded;\n",
              "          }\n",
              "        }\n",
              "      }\n",
              "      const blob = new Blob(buffers, {type: 'application/binary'});\n",
              "      const a = document.createElement('a');\n",
              "      a.href = window.URL.createObjectURL(blob);\n",
              "      a.download = filename;\n",
              "      div.appendChild(a);\n",
              "      a.click();\n",
              "      div.remove();\n",
              "    }\n",
              "  "
            ]
          },
          "metadata": {}
        },
        {
          "output_type": "display_data",
          "data": {
            "text/plain": [
              "<IPython.core.display.Javascript object>"
            ],
            "application/javascript": [
              "download(\"download_2fb4d76e-199b-45e8-af5e-50624f0a946f\", \"trigram_alphabet_wise_frequency.png\", 63527)"
            ]
          },
          "metadata": {}
        }
      ]
    },
    {
      "cell_type": "code",
      "execution_count": 42,
      "metadata": {
        "id": "KG--see9-7N_",
        "colab": {
          "base_uri": "https://localhost:8080/",
          "height": 424
        },
        "outputId": "639907e4-f84a-4683-e824-f9b644db0775"
      },
      "outputs": [
        {
          "output_type": "execute_result",
          "data": {
            "text/plain": [
              "                 word  frequency\n",
              "0                   আ        771\n",
              "1               স্টার        219\n",
              "2                  ইজ        410\n",
              "3                বর্ন         28\n",
              "4          প্রতিরাতের          8\n",
              "...               ...        ...\n",
              "370044       চালিয়েছ          1\n",
              "370045    গুপ্তজ্ঞানে          1\n",
              "370046      গালিপালাজ          1\n",
              "370047      গাড়ীটাকে          1\n",
              "370048  কয়েকসেকেন্ডে          1\n",
              "\n",
              "[370049 rows x 2 columns]"
            ],
            "text/html": [
              "\n",
              "  <div id=\"df-399a2b79-5cb9-4279-a3cb-ec6a147dbf7e\">\n",
              "    <div class=\"colab-df-container\">\n",
              "      <div>\n",
              "<style scoped>\n",
              "    .dataframe tbody tr th:only-of-type {\n",
              "        vertical-align: middle;\n",
              "    }\n",
              "\n",
              "    .dataframe tbody tr th {\n",
              "        vertical-align: top;\n",
              "    }\n",
              "\n",
              "    .dataframe thead th {\n",
              "        text-align: right;\n",
              "    }\n",
              "</style>\n",
              "<table border=\"1\" class=\"dataframe\">\n",
              "  <thead>\n",
              "    <tr style=\"text-align: right;\">\n",
              "      <th></th>\n",
              "      <th>word</th>\n",
              "      <th>frequency</th>\n",
              "    </tr>\n",
              "  </thead>\n",
              "  <tbody>\n",
              "    <tr>\n",
              "      <th>0</th>\n",
              "      <td>আ</td>\n",
              "      <td>771</td>\n",
              "    </tr>\n",
              "    <tr>\n",
              "      <th>1</th>\n",
              "      <td>স্টার</td>\n",
              "      <td>219</td>\n",
              "    </tr>\n",
              "    <tr>\n",
              "      <th>2</th>\n",
              "      <td>ইজ</td>\n",
              "      <td>410</td>\n",
              "    </tr>\n",
              "    <tr>\n",
              "      <th>3</th>\n",
              "      <td>বর্ন</td>\n",
              "      <td>28</td>\n",
              "    </tr>\n",
              "    <tr>\n",
              "      <th>4</th>\n",
              "      <td>প্রতিরাতের</td>\n",
              "      <td>8</td>\n",
              "    </tr>\n",
              "    <tr>\n",
              "      <th>...</th>\n",
              "      <td>...</td>\n",
              "      <td>...</td>\n",
              "    </tr>\n",
              "    <tr>\n",
              "      <th>370044</th>\n",
              "      <td>চালিয়েছ</td>\n",
              "      <td>1</td>\n",
              "    </tr>\n",
              "    <tr>\n",
              "      <th>370045</th>\n",
              "      <td>গুপ্তজ্ঞানে</td>\n",
              "      <td>1</td>\n",
              "    </tr>\n",
              "    <tr>\n",
              "      <th>370046</th>\n",
              "      <td>গালিপালাজ</td>\n",
              "      <td>1</td>\n",
              "    </tr>\n",
              "    <tr>\n",
              "      <th>370047</th>\n",
              "      <td>গাড়ীটাকে</td>\n",
              "      <td>1</td>\n",
              "    </tr>\n",
              "    <tr>\n",
              "      <th>370048</th>\n",
              "      <td>কয়েকসেকেন্ডে</td>\n",
              "      <td>1</td>\n",
              "    </tr>\n",
              "  </tbody>\n",
              "</table>\n",
              "<p>370049 rows × 2 columns</p>\n",
              "</div>\n",
              "      <button class=\"colab-df-convert\" onclick=\"convertToInteractive('df-399a2b79-5cb9-4279-a3cb-ec6a147dbf7e')\"\n",
              "              title=\"Convert this dataframe to an interactive table.\"\n",
              "              style=\"display:none;\">\n",
              "        \n",
              "  <svg xmlns=\"http://www.w3.org/2000/svg\" height=\"24px\"viewBox=\"0 0 24 24\"\n",
              "       width=\"24px\">\n",
              "    <path d=\"M0 0h24v24H0V0z\" fill=\"none\"/>\n",
              "    <path d=\"M18.56 5.44l.94 2.06.94-2.06 2.06-.94-2.06-.94-.94-2.06-.94 2.06-2.06.94zm-11 1L8.5 8.5l.94-2.06 2.06-.94-2.06-.94L8.5 2.5l-.94 2.06-2.06.94zm10 10l.94 2.06.94-2.06 2.06-.94-2.06-.94-.94-2.06-.94 2.06-2.06.94z\"/><path d=\"M17.41 7.96l-1.37-1.37c-.4-.4-.92-.59-1.43-.59-.52 0-1.04.2-1.43.59L10.3 9.45l-7.72 7.72c-.78.78-.78 2.05 0 2.83L4 21.41c.39.39.9.59 1.41.59.51 0 1.02-.2 1.41-.59l7.78-7.78 2.81-2.81c.8-.78.8-2.07 0-2.86zM5.41 20L4 18.59l7.72-7.72 1.47 1.35L5.41 20z\"/>\n",
              "  </svg>\n",
              "      </button>\n",
              "      \n",
              "  <style>\n",
              "    .colab-df-container {\n",
              "      display:flex;\n",
              "      flex-wrap:wrap;\n",
              "      gap: 12px;\n",
              "    }\n",
              "\n",
              "    .colab-df-convert {\n",
              "      background-color: #E8F0FE;\n",
              "      border: none;\n",
              "      border-radius: 50%;\n",
              "      cursor: pointer;\n",
              "      display: none;\n",
              "      fill: #1967D2;\n",
              "      height: 32px;\n",
              "      padding: 0 0 0 0;\n",
              "      width: 32px;\n",
              "    }\n",
              "\n",
              "    .colab-df-convert:hover {\n",
              "      background-color: #E2EBFA;\n",
              "      box-shadow: 0px 1px 2px rgba(60, 64, 67, 0.3), 0px 1px 3px 1px rgba(60, 64, 67, 0.15);\n",
              "      fill: #174EA6;\n",
              "    }\n",
              "\n",
              "    [theme=dark] .colab-df-convert {\n",
              "      background-color: #3B4455;\n",
              "      fill: #D2E3FC;\n",
              "    }\n",
              "\n",
              "    [theme=dark] .colab-df-convert:hover {\n",
              "      background-color: #434B5C;\n",
              "      box-shadow: 0px 1px 3px 1px rgba(0, 0, 0, 0.15);\n",
              "      filter: drop-shadow(0px 1px 2px rgba(0, 0, 0, 0.3));\n",
              "      fill: #FFFFFF;\n",
              "    }\n",
              "  </style>\n",
              "\n",
              "      <script>\n",
              "        const buttonEl =\n",
              "          document.querySelector('#df-399a2b79-5cb9-4279-a3cb-ec6a147dbf7e button.colab-df-convert');\n",
              "        buttonEl.style.display =\n",
              "          google.colab.kernel.accessAllowed ? 'block' : 'none';\n",
              "\n",
              "        async function convertToInteractive(key) {\n",
              "          const element = document.querySelector('#df-399a2b79-5cb9-4279-a3cb-ec6a147dbf7e');\n",
              "          const dataTable =\n",
              "            await google.colab.kernel.invokeFunction('convertToInteractive',\n",
              "                                                     [key], {});\n",
              "          if (!dataTable) return;\n",
              "\n",
              "          const docLinkHtml = 'Like what you see? Visit the ' +\n",
              "            '<a target=\"_blank\" href=https://colab.research.google.com/notebooks/data_table.ipynb>data table notebook</a>'\n",
              "            + ' to learn more about interactive tables.';\n",
              "          element.innerHTML = '';\n",
              "          dataTable['output_type'] = 'display_data';\n",
              "          await google.colab.output.renderOutput(dataTable, element);\n",
              "          const docLink = document.createElement('div');\n",
              "          docLink.innerHTML = docLinkHtml;\n",
              "          element.appendChild(docLink);\n",
              "        }\n",
              "      </script>\n",
              "    </div>\n",
              "  </div>\n",
              "  "
            ]
          },
          "metadata": {},
          "execution_count": 42
        }
      ],
      "source": [
        "unique_unigram = pd.read_csv('/content/unique_unigram.csv')\n",
        "unique_unigram"
      ]
    },
    {
      "cell_type": "code",
      "source": [
        "unique_bigram = pd.read_csv('/content/unique_bigram.csv')\n",
        "unique_bigram"
      ],
      "metadata": {
        "colab": {
          "base_uri": "https://localhost:8080/",
          "height": 424
        },
        "id": "zq5T08VQklA6",
        "outputId": "14f70b4e-e34f-45c9-8767-c4ee6c0afe18"
      },
      "execution_count": 43,
      "outputs": [
        {
          "output_type": "execute_result",
          "data": {
            "text/plain": [
              "                     word  frequency\n",
              "0                 আ স্টার          1\n",
              "1                স্টার ইজ          1\n",
              "2                 ইজ বর্ন          1\n",
              "3         বর্ন প্রতিরাতের          1\n",
              "4          প্রতিরাতের মতন          1\n",
              "...                   ...        ...\n",
              "5169397       অভাব সাফল্য          1\n",
              "5169398  ব্যর্থতার দুইটার          1\n",
              "5169399      দুইটার স্বাদ          1\n",
              "5169400     স্বাদ এইরাতের          1\n",
              "5169401       এইরাতের মতো          1\n",
              "\n",
              "[5169402 rows x 2 columns]"
            ],
            "text/html": [
              "\n",
              "  <div id=\"df-2c3eff3f-8f2c-49a4-adae-76d9c094f677\">\n",
              "    <div class=\"colab-df-container\">\n",
              "      <div>\n",
              "<style scoped>\n",
              "    .dataframe tbody tr th:only-of-type {\n",
              "        vertical-align: middle;\n",
              "    }\n",
              "\n",
              "    .dataframe tbody tr th {\n",
              "        vertical-align: top;\n",
              "    }\n",
              "\n",
              "    .dataframe thead th {\n",
              "        text-align: right;\n",
              "    }\n",
              "</style>\n",
              "<table border=\"1\" class=\"dataframe\">\n",
              "  <thead>\n",
              "    <tr style=\"text-align: right;\">\n",
              "      <th></th>\n",
              "      <th>word</th>\n",
              "      <th>frequency</th>\n",
              "    </tr>\n",
              "  </thead>\n",
              "  <tbody>\n",
              "    <tr>\n",
              "      <th>0</th>\n",
              "      <td>আ স্টার</td>\n",
              "      <td>1</td>\n",
              "    </tr>\n",
              "    <tr>\n",
              "      <th>1</th>\n",
              "      <td>স্টার ইজ</td>\n",
              "      <td>1</td>\n",
              "    </tr>\n",
              "    <tr>\n",
              "      <th>2</th>\n",
              "      <td>ইজ বর্ন</td>\n",
              "      <td>1</td>\n",
              "    </tr>\n",
              "    <tr>\n",
              "      <th>3</th>\n",
              "      <td>বর্ন প্রতিরাতের</td>\n",
              "      <td>1</td>\n",
              "    </tr>\n",
              "    <tr>\n",
              "      <th>4</th>\n",
              "      <td>প্রতিরাতের মতন</td>\n",
              "      <td>1</td>\n",
              "    </tr>\n",
              "    <tr>\n",
              "      <th>...</th>\n",
              "      <td>...</td>\n",
              "      <td>...</td>\n",
              "    </tr>\n",
              "    <tr>\n",
              "      <th>5169397</th>\n",
              "      <td>অভাব সাফল্য</td>\n",
              "      <td>1</td>\n",
              "    </tr>\n",
              "    <tr>\n",
              "      <th>5169398</th>\n",
              "      <td>ব্যর্থতার দুইটার</td>\n",
              "      <td>1</td>\n",
              "    </tr>\n",
              "    <tr>\n",
              "      <th>5169399</th>\n",
              "      <td>দুইটার স্বাদ</td>\n",
              "      <td>1</td>\n",
              "    </tr>\n",
              "    <tr>\n",
              "      <th>5169400</th>\n",
              "      <td>স্বাদ এইরাতের</td>\n",
              "      <td>1</td>\n",
              "    </tr>\n",
              "    <tr>\n",
              "      <th>5169401</th>\n",
              "      <td>এইরাতের মতো</td>\n",
              "      <td>1</td>\n",
              "    </tr>\n",
              "  </tbody>\n",
              "</table>\n",
              "<p>5169402 rows × 2 columns</p>\n",
              "</div>\n",
              "      <button class=\"colab-df-convert\" onclick=\"convertToInteractive('df-2c3eff3f-8f2c-49a4-adae-76d9c094f677')\"\n",
              "              title=\"Convert this dataframe to an interactive table.\"\n",
              "              style=\"display:none;\">\n",
              "        \n",
              "  <svg xmlns=\"http://www.w3.org/2000/svg\" height=\"24px\"viewBox=\"0 0 24 24\"\n",
              "       width=\"24px\">\n",
              "    <path d=\"M0 0h24v24H0V0z\" fill=\"none\"/>\n",
              "    <path d=\"M18.56 5.44l.94 2.06.94-2.06 2.06-.94-2.06-.94-.94-2.06-.94 2.06-2.06.94zm-11 1L8.5 8.5l.94-2.06 2.06-.94-2.06-.94L8.5 2.5l-.94 2.06-2.06.94zm10 10l.94 2.06.94-2.06 2.06-.94-2.06-.94-.94-2.06-.94 2.06-2.06.94z\"/><path d=\"M17.41 7.96l-1.37-1.37c-.4-.4-.92-.59-1.43-.59-.52 0-1.04.2-1.43.59L10.3 9.45l-7.72 7.72c-.78.78-.78 2.05 0 2.83L4 21.41c.39.39.9.59 1.41.59.51 0 1.02-.2 1.41-.59l7.78-7.78 2.81-2.81c.8-.78.8-2.07 0-2.86zM5.41 20L4 18.59l7.72-7.72 1.47 1.35L5.41 20z\"/>\n",
              "  </svg>\n",
              "      </button>\n",
              "      \n",
              "  <style>\n",
              "    .colab-df-container {\n",
              "      display:flex;\n",
              "      flex-wrap:wrap;\n",
              "      gap: 12px;\n",
              "    }\n",
              "\n",
              "    .colab-df-convert {\n",
              "      background-color: #E8F0FE;\n",
              "      border: none;\n",
              "      border-radius: 50%;\n",
              "      cursor: pointer;\n",
              "      display: none;\n",
              "      fill: #1967D2;\n",
              "      height: 32px;\n",
              "      padding: 0 0 0 0;\n",
              "      width: 32px;\n",
              "    }\n",
              "\n",
              "    .colab-df-convert:hover {\n",
              "      background-color: #E2EBFA;\n",
              "      box-shadow: 0px 1px 2px rgba(60, 64, 67, 0.3), 0px 1px 3px 1px rgba(60, 64, 67, 0.15);\n",
              "      fill: #174EA6;\n",
              "    }\n",
              "\n",
              "    [theme=dark] .colab-df-convert {\n",
              "      background-color: #3B4455;\n",
              "      fill: #D2E3FC;\n",
              "    }\n",
              "\n",
              "    [theme=dark] .colab-df-convert:hover {\n",
              "      background-color: #434B5C;\n",
              "      box-shadow: 0px 1px 3px 1px rgba(0, 0, 0, 0.15);\n",
              "      filter: drop-shadow(0px 1px 2px rgba(0, 0, 0, 0.3));\n",
              "      fill: #FFFFFF;\n",
              "    }\n",
              "  </style>\n",
              "\n",
              "      <script>\n",
              "        const buttonEl =\n",
              "          document.querySelector('#df-2c3eff3f-8f2c-49a4-adae-76d9c094f677 button.colab-df-convert');\n",
              "        buttonEl.style.display =\n",
              "          google.colab.kernel.accessAllowed ? 'block' : 'none';\n",
              "\n",
              "        async function convertToInteractive(key) {\n",
              "          const element = document.querySelector('#df-2c3eff3f-8f2c-49a4-adae-76d9c094f677');\n",
              "          const dataTable =\n",
              "            await google.colab.kernel.invokeFunction('convertToInteractive',\n",
              "                                                     [key], {});\n",
              "          if (!dataTable) return;\n",
              "\n",
              "          const docLinkHtml = 'Like what you see? Visit the ' +\n",
              "            '<a target=\"_blank\" href=https://colab.research.google.com/notebooks/data_table.ipynb>data table notebook</a>'\n",
              "            + ' to learn more about interactive tables.';\n",
              "          element.innerHTML = '';\n",
              "          dataTable['output_type'] = 'display_data';\n",
              "          await google.colab.output.renderOutput(dataTable, element);\n",
              "          const docLink = document.createElement('div');\n",
              "          docLink.innerHTML = docLinkHtml;\n",
              "          element.appendChild(docLink);\n",
              "        }\n",
              "      </script>\n",
              "    </div>\n",
              "  </div>\n",
              "  "
            ]
          },
          "metadata": {},
          "execution_count": 43
        }
      ]
    },
    {
      "cell_type": "code",
      "source": [
        "unique_trigram = pd.read_csv('/content/unique_trigram.csv')\n",
        "unique_trigram"
      ],
      "metadata": {
        "colab": {
          "base_uri": "https://localhost:8080/",
          "height": 424
        },
        "id": "jdJA87jBkwtp",
        "outputId": "4c3360f3-a85c-4368-e6ed-0d4ec21f84c1"
      },
      "execution_count": 44,
      "outputs": [
        {
          "output_type": "execute_result",
          "data": {
            "text/plain": [
              "                        word  frequency\n",
              "0                 আ স্টার ইজ          1\n",
              "1              স্টার ইজ বর্ন          1\n",
              "2         ইজ বর্ন প্রতিরাতের          1\n",
              "3        বর্ন প্রতিরাতের মতন          1\n",
              "4         প্রতিরাতের মতন আজও          1\n",
              "...                      ...        ...\n",
              "9689895    স্বাদ এইরাতের মতো          1\n",
              "9689896    এইরাতের মতো তিক্ত          1\n",
              "9689897       মতো তিক্ত হয়ে          1\n",
              "9689898    তিক্ত হয়ে যাওয়া          1\n",
              "9689899       যাওয়া আমি মনে          1\n",
              "\n",
              "[9689900 rows x 2 columns]"
            ],
            "text/html": [
              "\n",
              "  <div id=\"df-2d6d52d9-a5fa-4d38-85da-722001a5ca74\">\n",
              "    <div class=\"colab-df-container\">\n",
              "      <div>\n",
              "<style scoped>\n",
              "    .dataframe tbody tr th:only-of-type {\n",
              "        vertical-align: middle;\n",
              "    }\n",
              "\n",
              "    .dataframe tbody tr th {\n",
              "        vertical-align: top;\n",
              "    }\n",
              "\n",
              "    .dataframe thead th {\n",
              "        text-align: right;\n",
              "    }\n",
              "</style>\n",
              "<table border=\"1\" class=\"dataframe\">\n",
              "  <thead>\n",
              "    <tr style=\"text-align: right;\">\n",
              "      <th></th>\n",
              "      <th>word</th>\n",
              "      <th>frequency</th>\n",
              "    </tr>\n",
              "  </thead>\n",
              "  <tbody>\n",
              "    <tr>\n",
              "      <th>0</th>\n",
              "      <td>আ স্টার ইজ</td>\n",
              "      <td>1</td>\n",
              "    </tr>\n",
              "    <tr>\n",
              "      <th>1</th>\n",
              "      <td>স্টার ইজ বর্ন</td>\n",
              "      <td>1</td>\n",
              "    </tr>\n",
              "    <tr>\n",
              "      <th>2</th>\n",
              "      <td>ইজ বর্ন প্রতিরাতের</td>\n",
              "      <td>1</td>\n",
              "    </tr>\n",
              "    <tr>\n",
              "      <th>3</th>\n",
              "      <td>বর্ন প্রতিরাতের মতন</td>\n",
              "      <td>1</td>\n",
              "    </tr>\n",
              "    <tr>\n",
              "      <th>4</th>\n",
              "      <td>প্রতিরাতের মতন আজও</td>\n",
              "      <td>1</td>\n",
              "    </tr>\n",
              "    <tr>\n",
              "      <th>...</th>\n",
              "      <td>...</td>\n",
              "      <td>...</td>\n",
              "    </tr>\n",
              "    <tr>\n",
              "      <th>9689895</th>\n",
              "      <td>স্বাদ এইরাতের মতো</td>\n",
              "      <td>1</td>\n",
              "    </tr>\n",
              "    <tr>\n",
              "      <th>9689896</th>\n",
              "      <td>এইরাতের মতো তিক্ত</td>\n",
              "      <td>1</td>\n",
              "    </tr>\n",
              "    <tr>\n",
              "      <th>9689897</th>\n",
              "      <td>মতো তিক্ত হয়ে</td>\n",
              "      <td>1</td>\n",
              "    </tr>\n",
              "    <tr>\n",
              "      <th>9689898</th>\n",
              "      <td>তিক্ত হয়ে যাওয়া</td>\n",
              "      <td>1</td>\n",
              "    </tr>\n",
              "    <tr>\n",
              "      <th>9689899</th>\n",
              "      <td>যাওয়া আমি মনে</td>\n",
              "      <td>1</td>\n",
              "    </tr>\n",
              "  </tbody>\n",
              "</table>\n",
              "<p>9689900 rows × 2 columns</p>\n",
              "</div>\n",
              "      <button class=\"colab-df-convert\" onclick=\"convertToInteractive('df-2d6d52d9-a5fa-4d38-85da-722001a5ca74')\"\n",
              "              title=\"Convert this dataframe to an interactive table.\"\n",
              "              style=\"display:none;\">\n",
              "        \n",
              "  <svg xmlns=\"http://www.w3.org/2000/svg\" height=\"24px\"viewBox=\"0 0 24 24\"\n",
              "       width=\"24px\">\n",
              "    <path d=\"M0 0h24v24H0V0z\" fill=\"none\"/>\n",
              "    <path d=\"M18.56 5.44l.94 2.06.94-2.06 2.06-.94-2.06-.94-.94-2.06-.94 2.06-2.06.94zm-11 1L8.5 8.5l.94-2.06 2.06-.94-2.06-.94L8.5 2.5l-.94 2.06-2.06.94zm10 10l.94 2.06.94-2.06 2.06-.94-2.06-.94-.94-2.06-.94 2.06-2.06.94z\"/><path d=\"M17.41 7.96l-1.37-1.37c-.4-.4-.92-.59-1.43-.59-.52 0-1.04.2-1.43.59L10.3 9.45l-7.72 7.72c-.78.78-.78 2.05 0 2.83L4 21.41c.39.39.9.59 1.41.59.51 0 1.02-.2 1.41-.59l7.78-7.78 2.81-2.81c.8-.78.8-2.07 0-2.86zM5.41 20L4 18.59l7.72-7.72 1.47 1.35L5.41 20z\"/>\n",
              "  </svg>\n",
              "      </button>\n",
              "      \n",
              "  <style>\n",
              "    .colab-df-container {\n",
              "      display:flex;\n",
              "      flex-wrap:wrap;\n",
              "      gap: 12px;\n",
              "    }\n",
              "\n",
              "    .colab-df-convert {\n",
              "      background-color: #E8F0FE;\n",
              "      border: none;\n",
              "      border-radius: 50%;\n",
              "      cursor: pointer;\n",
              "      display: none;\n",
              "      fill: #1967D2;\n",
              "      height: 32px;\n",
              "      padding: 0 0 0 0;\n",
              "      width: 32px;\n",
              "    }\n",
              "\n",
              "    .colab-df-convert:hover {\n",
              "      background-color: #E2EBFA;\n",
              "      box-shadow: 0px 1px 2px rgba(60, 64, 67, 0.3), 0px 1px 3px 1px rgba(60, 64, 67, 0.15);\n",
              "      fill: #174EA6;\n",
              "    }\n",
              "\n",
              "    [theme=dark] .colab-df-convert {\n",
              "      background-color: #3B4455;\n",
              "      fill: #D2E3FC;\n",
              "    }\n",
              "\n",
              "    [theme=dark] .colab-df-convert:hover {\n",
              "      background-color: #434B5C;\n",
              "      box-shadow: 0px 1px 3px 1px rgba(0, 0, 0, 0.15);\n",
              "      filter: drop-shadow(0px 1px 2px rgba(0, 0, 0, 0.3));\n",
              "      fill: #FFFFFF;\n",
              "    }\n",
              "  </style>\n",
              "\n",
              "      <script>\n",
              "        const buttonEl =\n",
              "          document.querySelector('#df-2d6d52d9-a5fa-4d38-85da-722001a5ca74 button.colab-df-convert');\n",
              "        buttonEl.style.display =\n",
              "          google.colab.kernel.accessAllowed ? 'block' : 'none';\n",
              "\n",
              "        async function convertToInteractive(key) {\n",
              "          const element = document.querySelector('#df-2d6d52d9-a5fa-4d38-85da-722001a5ca74');\n",
              "          const dataTable =\n",
              "            await google.colab.kernel.invokeFunction('convertToInteractive',\n",
              "                                                     [key], {});\n",
              "          if (!dataTable) return;\n",
              "\n",
              "          const docLinkHtml = 'Like what you see? Visit the ' +\n",
              "            '<a target=\"_blank\" href=https://colab.research.google.com/notebooks/data_table.ipynb>data table notebook</a>'\n",
              "            + ' to learn more about interactive tables.';\n",
              "          element.innerHTML = '';\n",
              "          dataTable['output_type'] = 'display_data';\n",
              "          await google.colab.output.renderOutput(dataTable, element);\n",
              "          const docLink = document.createElement('div');\n",
              "          docLink.innerHTML = docLinkHtml;\n",
              "          element.appendChild(docLink);\n",
              "        }\n",
              "      </script>\n",
              "    </div>\n",
              "  </div>\n",
              "  "
            ]
          },
          "metadata": {},
          "execution_count": 44
        }
      ]
    },
    {
      "cell_type": "code",
      "source": [],
      "metadata": {
        "id": "ecWZrx93lFnp"
      },
      "execution_count": null,
      "outputs": []
    }
  ],
  "metadata": {
    "colab": {
      "collapsed_sections": [],
      "provenance": []
    },
    "kernelspec": {
      "display_name": "Python 3",
      "name": "python3"
    },
    "language_info": {
      "name": "python"
    }
  },
  "nbformat": 4,
  "nbformat_minor": 0
}